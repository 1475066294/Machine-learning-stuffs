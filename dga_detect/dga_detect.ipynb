{
 "cells": [
  {
   "cell_type": "code",
   "execution_count": 126,
   "metadata": {},
   "outputs": [
    {
     "name": "stdout",
     "output_type": "stream",
     "text": [
      "[Errno 2] No such file or directory: 'Desktop/data_hacking/dga_detection/'\n",
      "/root/Desktop/data_hacking/dga_detection\n"
     ]
    }
   ],
   "source": [
    "cd Desktop/data_hacking/dga_detection/"
   ]
  },
  {
   "cell_type": "code",
   "execution_count": 127,
   "metadata": {},
   "outputs": [
    {
     "name": "stdout",
     "output_type": "stream",
     "text": [
      "\u001b[0m\u001b[01;34mdata\u001b[0m/                       dga_model_eval.py  \u001b[01;34mdocs\u001b[0m/    \u001b[01;34mmodels\u001b[0m/\r\n",
      "DGA_Domain_Detection.ipynb  dga_model_gen.py   \u001b[01;34mimages\u001b[0m/  test.py\r\n"
     ]
    }
   ],
   "source": [
    "ls"
   ]
  },
  {
   "cell_type": "code",
   "execution_count": 128,
   "metadata": {
    "scrolled": true
   },
   "outputs": [],
   "source": [
    "import sklearn.feature_extraction\n",
    "import pandas as pd"
   ]
  },
  {
   "cell_type": "code",
   "execution_count": 129,
   "metadata": {
    "scrolled": true
   },
   "outputs": [],
   "source": [
    "# 设置绘图大小\n",
    "plt.rcParams['figure.figsize'] = (14.0, 5.0)\n",
    "plt.rcParams['axes.grid'] = True"
   ]
  },
  {
   "cell_type": "code",
   "execution_count": 130,
   "metadata": {},
   "outputs": [
    {
     "data": {
      "text/html": [
       "<div>\n",
       "<style>\n",
       "    .dataframe thead tr:only-child th {\n",
       "        text-align: right;\n",
       "    }\n",
       "\n",
       "    .dataframe thead th {\n",
       "        text-align: left;\n",
       "    }\n",
       "\n",
       "    .dataframe tbody tr th {\n",
       "        vertical-align: top;\n",
       "    }\n",
       "</style>\n",
       "<table border=\"1\" class=\"dataframe\">\n",
       "  <thead>\n",
       "    <tr style=\"text-align: right;\">\n",
       "      <th></th>\n",
       "      <th>rank</th>\n",
       "      <th>url</th>\n",
       "    </tr>\n",
       "  </thead>\n",
       "  <tbody>\n",
       "    <tr>\n",
       "      <th>0</th>\n",
       "      <td>1</td>\n",
       "      <td>facebook.com</td>\n",
       "    </tr>\n",
       "    <tr>\n",
       "      <th>1</th>\n",
       "      <td>2</td>\n",
       "      <td>google.com</td>\n",
       "    </tr>\n",
       "    <tr>\n",
       "      <th>2</th>\n",
       "      <td>3</td>\n",
       "      <td>youtube.com</td>\n",
       "    </tr>\n",
       "    <tr>\n",
       "      <th>3</th>\n",
       "      <td>4</td>\n",
       "      <td>yahoo.com</td>\n",
       "    </tr>\n",
       "    <tr>\n",
       "      <th>4</th>\n",
       "      <td>5</td>\n",
       "      <td>baidu.com</td>\n",
       "    </tr>\n",
       "  </tbody>\n",
       "</table>\n",
       "</div>"
      ],
      "text/plain": [
       "   rank           url\n",
       "0     1  facebook.com\n",
       "1     2    google.com\n",
       "2     3   youtube.com\n",
       "3     4     yahoo.com\n",
       "4     5     baidu.com"
      ]
     },
     "execution_count": 130,
     "metadata": {},
     "output_type": "execute_result"
    }
   ],
   "source": [
    "#读取合法域名\n",
    "alexa_dataframe = pd.read_csv('data/alexa_100k.csv', names=['rank','url'], header=None, encoding='utf-8')\n",
    "alexa_dataframe.head() #读取出来所有的域名数据"
   ]
  },
  {
   "cell_type": "code",
   "execution_count": 131,
   "metadata": {
    "scrolled": true
   },
   "outputs": [
    {
     "data": {
      "text/html": [
       "<div>\n",
       "<style>\n",
       "    .dataframe thead tr:only-child th {\n",
       "        text-align: right;\n",
       "    }\n",
       "\n",
       "    .dataframe thead th {\n",
       "        text-align: left;\n",
       "    }\n",
       "\n",
       "    .dataframe tbody tr th {\n",
       "        vertical-align: top;\n",
       "    }\n",
       "</style>\n",
       "<table border=\"1\" class=\"dataframe\">\n",
       "  <thead>\n",
       "    <tr style=\"text-align: right;\">\n",
       "      <th></th>\n",
       "      <th>domain</th>\n",
       "    </tr>\n",
       "  </thead>\n",
       "  <tbody>\n",
       "    <tr>\n",
       "      <th>0</th>\n",
       "      <td>facebook</td>\n",
       "    </tr>\n",
       "    <tr>\n",
       "      <th>1</th>\n",
       "      <td>google</td>\n",
       "    </tr>\n",
       "    <tr>\n",
       "      <th>2</th>\n",
       "      <td>youtube</td>\n",
       "    </tr>\n",
       "    <tr>\n",
       "      <th>3</th>\n",
       "      <td>yahoo</td>\n",
       "    </tr>\n",
       "    <tr>\n",
       "      <th>4</th>\n",
       "      <td>baidu</td>\n",
       "    </tr>\n",
       "  </tbody>\n",
       "</table>\n",
       "</div>"
      ],
      "text/plain": [
       "     domain\n",
       "0  facebook\n",
       "1    google\n",
       "2   youtube\n",
       "3     yahoo\n",
       "4     baidu"
      ]
     },
     "execution_count": 131,
     "metadata": {},
     "output_type": "execute_result"
    }
   ],
   "source": [
    "#提取域名\n",
    "import tldextract\n",
    "import numpy as np\n",
    "\n",
    "def domain_extract(url):\n",
    "    ext = tldextract.extract(url)\n",
    "    if (not ext.suffix):\n",
    "        return np.nan\n",
    "    else:\n",
    "        return ext.domain\n",
    "\n",
    "alexa_dataframe['domain'] = [ domain_extract(url) for url in alexa_dataframe['url']]\n",
    "del alexa_dataframe['rank']\n",
    "del alexa_dataframe['url']\n",
    "alexa_dataframe.count()\n",
    "alexa_dataframe.head()"
   ]
  },
  {
   "cell_type": "code",
   "execution_count": 132,
   "metadata": {},
   "outputs": [
    {
     "data": {
      "text/html": [
       "<div>\n",
       "<style>\n",
       "    .dataframe thead tr:only-child th {\n",
       "        text-align: right;\n",
       "    }\n",
       "\n",
       "    .dataframe thead th {\n",
       "        text-align: left;\n",
       "    }\n",
       "\n",
       "    .dataframe tbody tr th {\n",
       "        vertical-align: top;\n",
       "    }\n",
       "</style>\n",
       "<table border=\"1\" class=\"dataframe\">\n",
       "  <thead>\n",
       "    <tr style=\"text-align: right;\">\n",
       "      <th></th>\n",
       "      <th>domain</th>\n",
       "    </tr>\n",
       "  </thead>\n",
       "  <tbody>\n",
       "    <tr>\n",
       "      <th>99995</th>\n",
       "      <td>rhbabyandchild</td>\n",
       "    </tr>\n",
       "    <tr>\n",
       "      <th>99996</th>\n",
       "      <td>rm</td>\n",
       "    </tr>\n",
       "    <tr>\n",
       "      <th>99997</th>\n",
       "      <td>sat1</td>\n",
       "    </tr>\n",
       "    <tr>\n",
       "      <th>99998</th>\n",
       "      <td>nahimunkar</td>\n",
       "    </tr>\n",
       "    <tr>\n",
       "      <th>99999</th>\n",
       "      <td>musi</td>\n",
       "    </tr>\n",
       "  </tbody>\n",
       "</table>\n",
       "</div>"
      ],
      "text/plain": [
       "               domain\n",
       "99995  rhbabyandchild\n",
       "99996              rm\n",
       "99997            sat1\n",
       "99998      nahimunkar\n",
       "99999            musi"
      ]
     },
     "execution_count": 132,
     "metadata": {},
     "output_type": "execute_result"
    }
   ],
   "source": [
    "alexa_dataframe.tail()"
   ]
  },
  {
   "cell_type": "code",
   "execution_count": 133,
   "metadata": {},
   "outputs": [
    {
     "data": {
      "text/plain": [
       "domain    100000\n",
       "dtype: int64"
      ]
     },
     "execution_count": 133,
     "metadata": {},
     "output_type": "execute_result"
    }
   ],
   "source": [
    "alexa_dataframe.isnull().count()"
   ]
  },
  {
   "cell_type": "code",
   "execution_count": 134,
   "metadata": {},
   "outputs": [],
   "source": [
    "#发现有很多nan数据，丢弃\n",
    "alexa_dataframe = alexa_dataframe.dropna()\n",
    "#重复的域名数据对这次的训练没什么意义，所以抛弃\n",
    "alexa_dataframe = alexa_dataframe.drop_duplicates()"
   ]
  },
  {
   "cell_type": "code",
   "execution_count": 135,
   "metadata": {},
   "outputs": [
    {
     "data": {
      "text/plain": [
       "domain    91377\n",
       "dtype: int64"
      ]
     },
     "execution_count": 135,
     "metadata": {},
     "output_type": "execute_result"
    }
   ],
   "source": [
    "alexa_dataframe.count()"
   ]
  },
  {
   "cell_type": "code",
   "execution_count": 136,
   "metadata": {},
   "outputs": [
    {
     "name": "stdout",
     "output_type": "stream",
     "text": [
      "合法域名总数 91377\n",
      "使用的合法域名总数 82239\n"
     ]
    }
   ],
   "source": [
    "#设置分类\n",
    "alexa_dataframe['class'] = 'legit'\n",
    "#打乱数据\n",
    "alexa_dataframe = alexa_dataframe.reindex(np.random.permutation(alexa_dataframe.index))\n",
    "alexa_totol = alexa_dataframe.shape[0]\n",
    "print \"合法域名总数 %d\" %alexa_totol\n",
    "\n",
    "#据说掐头去尾后效果更好我们最后测试一下\n",
    "hole_out_alexa = alexa_dataframe[int(alexa_totol*.9):]\n",
    "alexa_dataframe = alexa_dataframe[:int(alexa_totol*.9)]\n",
    "print \"使用的合法域名总数 %d\" %alexa_dataframe.shape[0]"
   ]
  },
  {
   "cell_type": "code",
   "execution_count": 137,
   "metadata": {},
   "outputs": [
    {
     "data": {
      "text/html": [
       "<div>\n",
       "<style>\n",
       "    .dataframe thead tr:only-child th {\n",
       "        text-align: right;\n",
       "    }\n",
       "\n",
       "    .dataframe thead th {\n",
       "        text-align: left;\n",
       "    }\n",
       "\n",
       "    .dataframe tbody tr th {\n",
       "        vertical-align: top;\n",
       "    }\n",
       "</style>\n",
       "<table border=\"1\" class=\"dataframe\">\n",
       "  <thead>\n",
       "    <tr style=\"text-align: right;\">\n",
       "      <th></th>\n",
       "      <th>domain</th>\n",
       "      <th>class</th>\n",
       "    </tr>\n",
       "  </thead>\n",
       "  <tbody>\n",
       "    <tr>\n",
       "      <th>64169</th>\n",
       "      <td>elisaviihde</td>\n",
       "      <td>legit</td>\n",
       "    </tr>\n",
       "    <tr>\n",
       "      <th>9411</th>\n",
       "      <td>mrwhatis</td>\n",
       "      <td>legit</td>\n",
       "    </tr>\n",
       "    <tr>\n",
       "      <th>89790</th>\n",
       "      <td>affiz</td>\n",
       "      <td>legit</td>\n",
       "    </tr>\n",
       "    <tr>\n",
       "      <th>29482</th>\n",
       "      <td>persianhub</td>\n",
       "      <td>legit</td>\n",
       "    </tr>\n",
       "    <tr>\n",
       "      <th>73054</th>\n",
       "      <td>liveresponder</td>\n",
       "      <td>legit</td>\n",
       "    </tr>\n",
       "  </tbody>\n",
       "</table>\n",
       "</div>"
      ],
      "text/plain": [
       "              domain  class\n",
       "64169    elisaviihde  legit\n",
       "9411        mrwhatis  legit\n",
       "89790          affiz  legit\n",
       "29482     persianhub  legit\n",
       "73054  liveresponder  legit"
      ]
     },
     "execution_count": 137,
     "metadata": {},
     "output_type": "execute_result"
    }
   ],
   "source": [
    "alexa_dataframe.head()"
   ]
  },
  {
   "cell_type": "code",
   "execution_count": 138,
   "metadata": {},
   "outputs": [
    {
     "data": {
      "text/html": [
       "<div>\n",
       "<style>\n",
       "    .dataframe thead tr:only-child th {\n",
       "        text-align: right;\n",
       "    }\n",
       "\n",
       "    .dataframe thead th {\n",
       "        text-align: left;\n",
       "    }\n",
       "\n",
       "    .dataframe tbody tr th {\n",
       "        vertical-align: top;\n",
       "    }\n",
       "</style>\n",
       "<table border=\"1\" class=\"dataframe\">\n",
       "  <thead>\n",
       "    <tr style=\"text-align: right;\">\n",
       "      <th></th>\n",
       "      <th>raw_domain</th>\n",
       "    </tr>\n",
       "  </thead>\n",
       "  <tbody>\n",
       "    <tr>\n",
       "      <th>0</th>\n",
       "      <td>04055051be412eea5a61b7da8438be3d.info</td>\n",
       "    </tr>\n",
       "    <tr>\n",
       "      <th>1</th>\n",
       "      <td>1cb8a5f36f.info</td>\n",
       "    </tr>\n",
       "    <tr>\n",
       "      <th>2</th>\n",
       "      <td>30acd347397c34fc273e996b22951002.org</td>\n",
       "    </tr>\n",
       "    <tr>\n",
       "      <th>3</th>\n",
       "      <td>336c986a284e2b3bc0f69f949cb437cb.info</td>\n",
       "    </tr>\n",
       "    <tr>\n",
       "      <th>4</th>\n",
       "      <td>336c986a284e2b3bc0f69f949cb437cb.org</td>\n",
       "    </tr>\n",
       "  </tbody>\n",
       "</table>\n",
       "</div>"
      ],
      "text/plain": [
       "                               raw_domain\n",
       "0  04055051be412eea5a61b7da8438be3d.info \n",
       "1                        1cb8a5f36f.info \n",
       "2   30acd347397c34fc273e996b22951002.org \n",
       "3   336c986a284e2b3bc0f69f949cb437cb.info\n",
       "4   336c986a284e2b3bc0f69f949cb437cb.org "
      ]
     },
     "execution_count": 138,
     "metadata": {},
     "output_type": "execute_result"
    }
   ],
   "source": [
    "######开始读取dga域名\n",
    "dga_dataframe = pd.read_csv('data/dga_domains.txt',names=['raw_domain'],header=None,encoding='utf-8')\n",
    "dga_dataframe.head()\n",
    "#print dga_dataframe.count()"
   ]
  },
  {
   "cell_type": "code",
   "execution_count": 139,
   "metadata": {},
   "outputs": [
    {
     "name": "stdout",
     "output_type": "stream",
     "text": [
      "raw_domain    2669\n",
      "dtype: int64\n"
     ]
    },
    {
     "data": {
      "text/plain": [
       "0    436\n",
       "dtype: int64"
      ]
     },
     "execution_count": 139,
     "metadata": {},
     "output_type": "execute_result"
    }
   ],
   "source": [
    "test = [domain_extract(url) for url in dga_dataframe['raw_domain']]\n",
    "test = pd.DataFrame(test)\n",
    "print dga_dataframe.count()\n",
    "test.count()\n",
    "#很明显从测试的结果来看，直接用tldextract提取dga域名效果差极了，我们注意到域名可以似乎直接通过.分割"
   ]
  },
  {
   "cell_type": "code",
   "execution_count": 140,
   "metadata": {},
   "outputs": [
    {
     "name": "stdout",
     "output_type": "stream",
     "text": [
      "dga 域名总数为 2664\n",
      "使用的域名总数为 2397\n"
     ]
    }
   ],
   "source": [
    "#分割出域名\n",
    "dga_dataframe['domain'] = dga_dataframe.applymap(lambda x: x.split('.')[0].lower())\n",
    "#print dga_dataframe.head()\n",
    "del dga_dataframe['raw_domain']\n",
    "#删除为空和重复的数据\n",
    "dga_dataframe = dga_dataframe.dropna()\n",
    "dga_dataframe = dga_dataframe.drop_duplicates()\n",
    "dga_totol = dga_dataframe.shape[0]\n",
    "print \"dga 域名总数为 %d\" %dga_totol\n",
    "#print dga_dataframe.head()\n",
    "\n",
    "#设置分类\n",
    "dga_dataframe['class'] = 'dga'\n",
    "#听说掐头去尾效果更好。\n",
    "hold_out_dga = dga_dataframe[int(dga_totol*0.9):]\n",
    "dga_dataframe = dga_dataframe[:int(dga_totol*0.9)]\n",
    "print \"使用的域名总数为 %d\" %dga_dataframe.shape[0]\n"
   ]
  },
  {
   "cell_type": "code",
   "execution_count": 141,
   "metadata": {},
   "outputs": [
    {
     "data": {
      "text/html": [
       "<div>\n",
       "<style>\n",
       "    .dataframe thead tr:only-child th {\n",
       "        text-align: right;\n",
       "    }\n",
       "\n",
       "    .dataframe thead th {\n",
       "        text-align: left;\n",
       "    }\n",
       "\n",
       "    .dataframe tbody tr th {\n",
       "        vertical-align: top;\n",
       "    }\n",
       "</style>\n",
       "<table border=\"1\" class=\"dataframe\">\n",
       "  <thead>\n",
       "    <tr style=\"text-align: right;\">\n",
       "      <th></th>\n",
       "      <th>domain</th>\n",
       "      <th>class</th>\n",
       "    </tr>\n",
       "  </thead>\n",
       "  <tbody>\n",
       "    <tr>\n",
       "      <th>0</th>\n",
       "      <td>04055051be412eea5a61b7da8438be3d</td>\n",
       "      <td>dga</td>\n",
       "    </tr>\n",
       "    <tr>\n",
       "      <th>1</th>\n",
       "      <td>1cb8a5f36f</td>\n",
       "      <td>dga</td>\n",
       "    </tr>\n",
       "    <tr>\n",
       "      <th>2</th>\n",
       "      <td>30acd347397c34fc273e996b22951002</td>\n",
       "      <td>dga</td>\n",
       "    </tr>\n",
       "    <tr>\n",
       "      <th>3</th>\n",
       "      <td>336c986a284e2b3bc0f69f949cb437cb</td>\n",
       "      <td>dga</td>\n",
       "    </tr>\n",
       "    <tr>\n",
       "      <th>5</th>\n",
       "      <td>40a43e61e56a5c218cf6c22aca27f7ee</td>\n",
       "      <td>dga</td>\n",
       "    </tr>\n",
       "  </tbody>\n",
       "</table>\n",
       "</div>"
      ],
      "text/plain": [
       "                             domain class\n",
       "0  04055051be412eea5a61b7da8438be3d   dga\n",
       "1                        1cb8a5f36f   dga\n",
       "2  30acd347397c34fc273e996b22951002   dga\n",
       "3  336c986a284e2b3bc0f69f949cb437cb   dga\n",
       "5  40a43e61e56a5c218cf6c22aca27f7ee   dga"
      ]
     },
     "execution_count": 141,
     "metadata": {},
     "output_type": "execute_result"
    }
   ],
   "source": [
    "dga_dataframe.head()"
   ]
  },
  {
   "cell_type": "code",
   "execution_count": 142,
   "metadata": {},
   "outputs": [
    {
     "name": "stdout",
     "output_type": "stream",
     "text": [
      "          domain  class\n",
      "0    elisaviihde  legit\n",
      "1       mrwhatis  legit\n",
      "2          affiz  legit\n",
      "3     persianhub  legit\n",
      "4  liveresponder  legit\n"
     ]
    },
    {
     "data": {
      "text/plain": [
       "domain    84636\n",
       "class     84636\n",
       "dtype: int64"
      ]
     },
     "execution_count": 142,
     "metadata": {},
     "output_type": "execute_result"
    }
   ],
   "source": [
    "#把所有域名链接到一起\n",
    "all_domains = pd.concat([alexa_dataframe,dga_dataframe],ignore_index=True)\n",
    "print all_domains.head()\n",
    "all_domains.count()"
   ]
  },
  {
   "cell_type": "code",
   "execution_count": 143,
   "metadata": {},
   "outputs": [],
   "source": [
    "#从之前可以看到合法域名和dga域名有着明显长度区别。\n",
    "all_domains['length'] = [len(x) for x in all_domains['domain']]"
   ]
  },
  {
   "cell_type": "code",
   "execution_count": 144,
   "metadata": {},
   "outputs": [
    {
     "data": {
      "text/html": [
       "<div>\n",
       "<style>\n",
       "    .dataframe thead tr:only-child th {\n",
       "        text-align: right;\n",
       "    }\n",
       "\n",
       "    .dataframe thead th {\n",
       "        text-align: left;\n",
       "    }\n",
       "\n",
       "    .dataframe tbody tr th {\n",
       "        vertical-align: top;\n",
       "    }\n",
       "</style>\n",
       "<table border=\"1\" class=\"dataframe\">\n",
       "  <thead>\n",
       "    <tr style=\"text-align: right;\">\n",
       "      <th></th>\n",
       "      <th>domain</th>\n",
       "      <th>class</th>\n",
       "      <th>length</th>\n",
       "      <th>entropy</th>\n",
       "    </tr>\n",
       "  </thead>\n",
       "  <tbody>\n",
       "    <tr>\n",
       "      <th>0</th>\n",
       "      <td>elisaviihde</td>\n",
       "      <td>legit</td>\n",
       "      <td>11</td>\n",
       "      <td>2.845351</td>\n",
       "    </tr>\n",
       "    <tr>\n",
       "      <th>1</th>\n",
       "      <td>mrwhatis</td>\n",
       "      <td>legit</td>\n",
       "      <td>8</td>\n",
       "      <td>3.000000</td>\n",
       "    </tr>\n",
       "    <tr>\n",
       "      <th>2</th>\n",
       "      <td>affiz</td>\n",
       "      <td>legit</td>\n",
       "      <td>5</td>\n",
       "      <td>1.921928</td>\n",
       "    </tr>\n",
       "    <tr>\n",
       "      <th>3</th>\n",
       "      <td>persianhub</td>\n",
       "      <td>legit</td>\n",
       "      <td>10</td>\n",
       "      <td>3.321928</td>\n",
       "    </tr>\n",
       "    <tr>\n",
       "      <th>4</th>\n",
       "      <td>liveresponder</td>\n",
       "      <td>legit</td>\n",
       "      <td>13</td>\n",
       "      <td>3.180833</td>\n",
       "    </tr>\n",
       "  </tbody>\n",
       "</table>\n",
       "</div>"
      ],
      "text/plain": [
       "          domain  class  length   entropy\n",
       "0    elisaviihde  legit      11  2.845351\n",
       "1       mrwhatis  legit       8  3.000000\n",
       "2          affiz  legit       5  1.921928\n",
       "3     persianhub  legit      10  3.321928\n",
       "4  liveresponder  legit      13  3.180833"
      ]
     },
     "execution_count": 144,
     "metadata": {},
     "output_type": "execute_result"
    }
   ],
   "source": [
    "import math\n",
    "from collections import Counter\n",
    "#熵的计算公式\n",
    "def entropy(x):\n",
    "    p,lns = Counter(x) ,float(len(x))\n",
    "    return -sum(count/lns * math.log(count/lns,2) for count in p.values())\n",
    "#同样，将域名的信息熵作为一个特征\n",
    "all_domains['entropy'] = [entropy(x) for x in all_domains['domain']]\n",
    "all_domains.head()"
   ]
  },
  {
   "cell_type": "code",
   "execution_count": 145,
   "metadata": {},
   "outputs": [
    {
     "data": {
      "text/html": [
       "<div>\n",
       "<style>\n",
       "    .dataframe thead tr:only-child th {\n",
       "        text-align: right;\n",
       "    }\n",
       "\n",
       "    .dataframe thead th {\n",
       "        text-align: left;\n",
       "    }\n",
       "\n",
       "    .dataframe tbody tr th {\n",
       "        vertical-align: top;\n",
       "    }\n",
       "</style>\n",
       "<table border=\"1\" class=\"dataframe\">\n",
       "  <thead>\n",
       "    <tr style=\"text-align: right;\">\n",
       "      <th></th>\n",
       "      <th>domain</th>\n",
       "      <th>class</th>\n",
       "      <th>length</th>\n",
       "      <th>entropy</th>\n",
       "    </tr>\n",
       "  </thead>\n",
       "  <tbody>\n",
       "    <tr>\n",
       "      <th>84631</th>\n",
       "      <td>ulxxqduryvv</td>\n",
       "      <td>dga</td>\n",
       "      <td>11</td>\n",
       "      <td>2.913977</td>\n",
       "    </tr>\n",
       "    <tr>\n",
       "      <th>84632</th>\n",
       "      <td>ummvzhin</td>\n",
       "      <td>dga</td>\n",
       "      <td>8</td>\n",
       "      <td>2.750000</td>\n",
       "    </tr>\n",
       "    <tr>\n",
       "      <th>84633</th>\n",
       "      <td>umsgnwgc</td>\n",
       "      <td>dga</td>\n",
       "      <td>8</td>\n",
       "      <td>2.750000</td>\n",
       "    </tr>\n",
       "    <tr>\n",
       "      <th>84634</th>\n",
       "      <td>umzsbhpkrgo</td>\n",
       "      <td>dga</td>\n",
       "      <td>11</td>\n",
       "      <td>3.459432</td>\n",
       "    </tr>\n",
       "    <tr>\n",
       "      <th>84635</th>\n",
       "      <td>umzuyjrfwyf</td>\n",
       "      <td>dga</td>\n",
       "      <td>11</td>\n",
       "      <td>2.913977</td>\n",
       "    </tr>\n",
       "  </tbody>\n",
       "</table>\n",
       "</div>"
      ],
      "text/plain": [
       "            domain class  length   entropy\n",
       "84631  ulxxqduryvv   dga      11  2.913977\n",
       "84632     ummvzhin   dga       8  2.750000\n",
       "84633     umsgnwgc   dga       8  2.750000\n",
       "84634  umzsbhpkrgo   dga      11  3.459432\n",
       "84635  umzuyjrfwyf   dga      11  2.913977"
      ]
     },
     "execution_count": 145,
     "metadata": {},
     "output_type": "execute_result"
    }
   ],
   "source": [
    "all_domains.tail()"
   ]
  },
  {
   "cell_type": "code",
   "execution_count": 146,
   "metadata": {},
   "outputs": [],
   "source": [
    "##################开始绘图"
   ]
  },
  {
   "cell_type": "code",
   "execution_count": 147,
   "metadata": {},
   "outputs": [
    {
     "data": {
      "image/png": "[encoded data removed]",
      "text/plain": [
       "<matplotlib.figure.Figure at 0x7f1e00cec8d0>"
      ]
     },
     "metadata": {},
     "output_type": "display_data"
    },
    {
     "data": {
      "image/png": "[encoded data removed]",
      "text/plain": [
       "<matplotlib.figure.Figure at 0x7f1e075d3a90>"
      ]
     },
     "metadata": {},
     "output_type": "display_data"
    }
   ],
   "source": [
    "#通过盒图来查看整个数据分布\n",
    "import matplotlib.pylab as plt\n",
    "all_domains.boxplot('length','class')\n",
    "plt.ylabel('length')\n",
    "all_domains.boxplot('entropy','class')\n",
    "plt.ylabel('entropy')\n",
    "plt.show()"
   ]
  },
  {
   "cell_type": "code",
   "execution_count": 148,
   "metadata": {
    "scrolled": true
   },
   "outputs": [
    {
     "data": {
      "image/png": "[encoded data removed]",
      "text/plain": [
       "<matplotlib.figure.Figure at 0x7f1e00bfcd90>"
      ]
     },
     "metadata": {},
     "output_type": "display_data"
    }
   ],
   "source": [
    "cond = all_domains['class'] == 'dga'\n",
    "dga = all_domains[cond]\n",
    "alexa = all_domains[~cond]\n",
    "plt.scatter(alexa['length'],alexa['entropy'],s=140,c='#aaaaff',label='Alexa',alpha=.2)\n",
    "plt.scatter(dga['length'],dga['entropy'],s=40,c='r',label='dga',alpha=.3)\n",
    "plt.xlabel('domain length')\n",
    "plt.ylabel('domain entropy')\n",
    "plt.show()"
   ]
  },
  {
   "cell_type": "code",
   "execution_count": 149,
   "metadata": {},
   "outputs": [],
   "source": [
    "#构建训练X输入矩阵\n",
    "X = all_domains.as_matrix(['length','entropy'])\n",
    "#构建y结果\n",
    "y= np.array(all_domains['class'].tolist())"
   ]
  },
  {
   "cell_type": "code",
   "execution_count": 151,
   "metadata": {},
   "outputs": [],
   "source": [
    "import sklearn.ensemble\n",
    "clf = sklearn.ensemble.RandomForestClassifier(n_estimators=20)"
   ]
  },
  {
   "cell_type": "code",
   "execution_count": 155,
   "metadata": {},
   "outputs": [
    {
     "name": "stderr",
     "output_type": "stream",
     "text": [
      "/usr/local/lib/python2.7/dist-packages/sklearn/cross_validation.py:41: DeprecationWarning: This module was deprecated in version 0.18 in favor of the model_selection module into which all the refactored classes and functions are moved. Also note that the interface of the new CV iterators are different from that of this module. This module will be removed in 0.20.\n",
      "  \"This module will be removed in 0.20.\", DeprecationWarning)\n"
     ]
    },
    {
     "name": "stdout",
     "output_type": "stream",
     "text": [
      "[ 0.97666588  0.97654773  0.97737343  0.97619188  0.97323644]\n"
     ]
    }
   ],
   "source": [
    "from sklearn.cross_validation import cross_val_score\n",
    "scores = cross_val_score(clf,X,y,cv=5,n_jobs=4)\n",
    "print scores\n",
    "#emmmmm这个大概97.5的准确率甚是喜人啊"
   ]
  },
  {
   "cell_type": "code",
   "execution_count": null,
   "metadata": {},
   "outputs": [],
   "source": []
  },
  {
   "cell_type": "code",
   "execution_count": null,
   "metadata": {},
   "outputs": [],
   "source": []
  }
 ],
 "metadata": {
  "kernelspec": {
   "display_name": "Python 2",
   "language": "python",
   "name": "python2"
  },
  "language_info": {
   "codemirror_mode": {
    "name": "ipython",
    "version": 2
   },
   "file_extension": ".py",
   "mimetype": "text/x-python",
   "name": "python",
   "nbconvert_exporter": "python",
   "pygments_lexer": "ipython2",
   "version": "2.7.13"
  }
 },
 "nbformat": 4,
 "nbformat_minor": 2
}
