{
 "cells": [
  {
   "cell_type": "code",
   "execution_count": 1,
   "metadata": {
    "scrolled": true
   },
   "outputs": [
    {
     "name": "stdout",
     "output_type": "stream",
     "text": [
      "\u001b[0m\u001b[01;34mdga_detect\u001b[0m/  README.md  Untitled.ipynb\r\n"
     ]
    }
   ],
   "source": [
    "ls"
   ]
  },
  {
   "cell_type": "code",
   "execution_count": 2,
   "metadata": {
    "scrolled": true
   },
   "outputs": [
    {
     "name": "stdout",
     "output_type": "stream",
     "text": [
      "/home/sun/git/Machine-learning-stuffs/dga_detect\n"
     ]
    }
   ],
   "source": [
    "cd dga_detect/"
   ]
  },
  {
   "cell_type": "code",
   "execution_count": 3,
   "metadata": {
    "scrolled": true
   },
   "outputs": [],
   "source": [
    "import sklearn.feature_extraction\n",
    "import pandas as pd\n",
    "import matplotlib.pylab as plt"
   ]
  },
  {
   "cell_type": "code",
   "execution_count": 4,
   "metadata": {
    "scrolled": true
   },
   "outputs": [],
   "source": [
    "# 设置绘图大小\n",
    "plt.rcParams['figure.figsize'] = (14.0, 5.0)\n",
    "plt.rcParams['axes.grid'] = True"
   ]
  },
  {
   "cell_type": "code",
   "execution_count": 5,
   "metadata": {
    "scrolled": true
   },
   "outputs": [
    {
     "data": {
      "text/html": [
       "<div>\n",
       "<style>\n",
       "    .dataframe thead tr:only-child th {\n",
       "        text-align: right;\n",
       "    }\n",
       "\n",
       "    .dataframe thead th {\n",
       "        text-align: left;\n",
       "    }\n",
       "\n",
       "    .dataframe tbody tr th {\n",
       "        vertical-align: top;\n",
       "    }\n",
       "</style>\n",
       "<table border=\"1\" class=\"dataframe\">\n",
       "  <thead>\n",
       "    <tr style=\"text-align: right;\">\n",
       "      <th></th>\n",
       "      <th>rank</th>\n",
       "      <th>url</th>\n",
       "    </tr>\n",
       "  </thead>\n",
       "  <tbody>\n",
       "    <tr>\n",
       "      <th>0</th>\n",
       "      <td>1</td>\n",
       "      <td>facebook.com</td>\n",
       "    </tr>\n",
       "    <tr>\n",
       "      <th>1</th>\n",
       "      <td>2</td>\n",
       "      <td>google.com</td>\n",
       "    </tr>\n",
       "    <tr>\n",
       "      <th>2</th>\n",
       "      <td>3</td>\n",
       "      <td>youtube.com</td>\n",
       "    </tr>\n",
       "    <tr>\n",
       "      <th>3</th>\n",
       "      <td>4</td>\n",
       "      <td>yahoo.com</td>\n",
       "    </tr>\n",
       "    <tr>\n",
       "      <th>4</th>\n",
       "      <td>5</td>\n",
       "      <td>baidu.com</td>\n",
       "    </tr>\n",
       "  </tbody>\n",
       "</table>\n",
       "</div>"
      ],
      "text/plain": [
       "   rank           url\n",
       "0     1  facebook.com\n",
       "1     2    google.com\n",
       "2     3   youtube.com\n",
       "3     4     yahoo.com\n",
       "4     5     baidu.com"
      ]
     },
     "execution_count": 5,
     "metadata": {},
     "output_type": "execute_result"
    }
   ],
   "source": [
    "#读取合法域名\n",
    "alexa_dataframe = pd.read_csv('data/alexa_100k.csv', names=['rank','url'], header=None, encoding='utf-8')\n",
    "alexa_dataframe.head() #读取出来所有的域名数据"
   ]
  },
  {
   "cell_type": "code",
   "execution_count": 6,
   "metadata": {
    "scrolled": false
   },
   "outputs": [
    {
     "name": "stderr",
     "output_type": "stream",
     "text": [
      "No handlers could be found for logger \"tldextract\"\n"
     ]
    },
    {
     "data": {
      "text/html": [
       "<div>\n",
       "<style>\n",
       "    .dataframe thead tr:only-child th {\n",
       "        text-align: right;\n",
       "    }\n",
       "\n",
       "    .dataframe thead th {\n",
       "        text-align: left;\n",
       "    }\n",
       "\n",
       "    .dataframe tbody tr th {\n",
       "        vertical-align: top;\n",
       "    }\n",
       "</style>\n",
       "<table border=\"1\" class=\"dataframe\">\n",
       "  <thead>\n",
       "    <tr style=\"text-align: right;\">\n",
       "      <th></th>\n",
       "      <th>domain</th>\n",
       "    </tr>\n",
       "  </thead>\n",
       "  <tbody>\n",
       "    <tr>\n",
       "      <th>0</th>\n",
       "      <td>facebook</td>\n",
       "    </tr>\n",
       "    <tr>\n",
       "      <th>1</th>\n",
       "      <td>google</td>\n",
       "    </tr>\n",
       "    <tr>\n",
       "      <th>2</th>\n",
       "      <td>youtube</td>\n",
       "    </tr>\n",
       "    <tr>\n",
       "      <th>3</th>\n",
       "      <td>yahoo</td>\n",
       "    </tr>\n",
       "    <tr>\n",
       "      <th>4</th>\n",
       "      <td>baidu</td>\n",
       "    </tr>\n",
       "  </tbody>\n",
       "</table>\n",
       "</div>"
      ],
      "text/plain": [
       "     domain\n",
       "0  facebook\n",
       "1    google\n",
       "2   youtube\n",
       "3     yahoo\n",
       "4     baidu"
      ]
     },
     "execution_count": 6,
     "metadata": {},
     "output_type": "execute_result"
    }
   ],
   "source": [
    "#提取域名\n",
    "import tldextract\n",
    "import numpy as np\n",
    "\n",
    "def domain_extract(url):\n",
    "    ext = tldextract.extract(url)\n",
    "    if (not ext.suffix):\n",
    "        return np.nan\n",
    "    else:\n",
    "        return ext.domain\n",
    "\n",
    "alexa_dataframe['domain'] = [ domain_extract(url) for url in alexa_dataframe['url']]\n",
    "del alexa_dataframe['rank']\n",
    "del alexa_dataframe['url']\n",
    "alexa_dataframe.count()\n",
    "alexa_dataframe.head()"
   ]
  },
  {
   "cell_type": "code",
   "execution_count": 7,
   "metadata": {
    "scrolled": false
   },
   "outputs": [
    {
     "data": {
      "text/html": [
       "<div>\n",
       "<style>\n",
       "    .dataframe thead tr:only-child th {\n",
       "        text-align: right;\n",
       "    }\n",
       "\n",
       "    .dataframe thead th {\n",
       "        text-align: left;\n",
       "    }\n",
       "\n",
       "    .dataframe tbody tr th {\n",
       "        vertical-align: top;\n",
       "    }\n",
       "</style>\n",
       "<table border=\"1\" class=\"dataframe\">\n",
       "  <thead>\n",
       "    <tr style=\"text-align: right;\">\n",
       "      <th></th>\n",
       "      <th>domain</th>\n",
       "    </tr>\n",
       "  </thead>\n",
       "  <tbody>\n",
       "    <tr>\n",
       "      <th>99995</th>\n",
       "      <td>rhbabyandchild</td>\n",
       "    </tr>\n",
       "    <tr>\n",
       "      <th>99996</th>\n",
       "      <td>rm</td>\n",
       "    </tr>\n",
       "    <tr>\n",
       "      <th>99997</th>\n",
       "      <td>sat1</td>\n",
       "    </tr>\n",
       "    <tr>\n",
       "      <th>99998</th>\n",
       "      <td>nahimunkar</td>\n",
       "    </tr>\n",
       "    <tr>\n",
       "      <th>99999</th>\n",
       "      <td>musi</td>\n",
       "    </tr>\n",
       "  </tbody>\n",
       "</table>\n",
       "</div>"
      ],
      "text/plain": [
       "               domain\n",
       "99995  rhbabyandchild\n",
       "99996              rm\n",
       "99997            sat1\n",
       "99998      nahimunkar\n",
       "99999            musi"
      ]
     },
     "execution_count": 7,
     "metadata": {},
     "output_type": "execute_result"
    }
   ],
   "source": [
    "alexa_dataframe.tail()"
   ]
  },
  {
   "cell_type": "code",
   "execution_count": 8,
   "metadata": {
    "scrolled": false
   },
   "outputs": [
    {
     "data": {
      "text/plain": [
       "domain    100000\n",
       "dtype: int64"
      ]
     },
     "execution_count": 8,
     "metadata": {},
     "output_type": "execute_result"
    }
   ],
   "source": [
    "alexa_dataframe.isnull().count()"
   ]
  },
  {
   "cell_type": "code",
   "execution_count": 9,
   "metadata": {
    "scrolled": false
   },
   "outputs": [],
   "source": [
    "#发现有很多nan数据，丢弃\n",
    "alexa_dataframe = alexa_dataframe.dropna()\n",
    "#重复的域名数据对这次的训练没什么意义，所以抛弃\n",
    "alexa_dataframe = alexa_dataframe.drop_duplicates()"
   ]
  },
  {
   "cell_type": "code",
   "execution_count": 10,
   "metadata": {
    "scrolled": false
   },
   "outputs": [
    {
     "data": {
      "text/plain": [
       "domain    91377\n",
       "dtype: int64"
      ]
     },
     "execution_count": 10,
     "metadata": {},
     "output_type": "execute_result"
    }
   ],
   "source": [
    "alexa_dataframe.count()"
   ]
  },
  {
   "cell_type": "code",
   "execution_count": 11,
   "metadata": {
    "scrolled": false
   },
   "outputs": [
    {
     "name": "stdout",
     "output_type": "stream",
     "text": [
      "合法域名总数 91377\n",
      "使用的合法域名总数 82239\n"
     ]
    }
   ],
   "source": [
    "#设置分类\n",
    "alexa_dataframe['class'] = 'legit'\n",
    "#打乱数据\n",
    "alexa_dataframe = alexa_dataframe.reindex(np.random.permutation(alexa_dataframe.index))\n",
    "alexa_totol = alexa_dataframe.shape[0]\n",
    "print \"合法域名总数 %d\" %alexa_totol\n",
    "\n",
    "#据说掐头去尾后效果更好我们最后测试一下\n",
    "hole_out_alexa = alexa_dataframe[int(alexa_totol*.9):]\n",
    "alexa_dataframe = alexa_dataframe[:int(alexa_totol*.9)]\n",
    "print \"使用的合法域名总数 %d\" %alexa_dataframe.shape[0]"
   ]
  },
  {
   "cell_type": "code",
   "execution_count": 12,
   "metadata": {
    "scrolled": false
   },
   "outputs": [
    {
     "data": {
      "text/html": [
       "<div>\n",
       "<style>\n",
       "    .dataframe thead tr:only-child th {\n",
       "        text-align: right;\n",
       "    }\n",
       "\n",
       "    .dataframe thead th {\n",
       "        text-align: left;\n",
       "    }\n",
       "\n",
       "    .dataframe tbody tr th {\n",
       "        vertical-align: top;\n",
       "    }\n",
       "</style>\n",
       "<table border=\"1\" class=\"dataframe\">\n",
       "  <thead>\n",
       "    <tr style=\"text-align: right;\">\n",
       "      <th></th>\n",
       "      <th>domain</th>\n",
       "      <th>class</th>\n",
       "    </tr>\n",
       "  </thead>\n",
       "  <tbody>\n",
       "    <tr>\n",
       "      <th>70083</th>\n",
       "      <td>wildretroporn</td>\n",
       "      <td>legit</td>\n",
       "    </tr>\n",
       "    <tr>\n",
       "      <th>47835</th>\n",
       "      <td>auctionsniper</td>\n",
       "      <td>legit</td>\n",
       "    </tr>\n",
       "    <tr>\n",
       "      <th>64427</th>\n",
       "      <td>penggilabookmark</td>\n",
       "      <td>legit</td>\n",
       "    </tr>\n",
       "    <tr>\n",
       "      <th>82951</th>\n",
       "      <td>alarabonline</td>\n",
       "      <td>legit</td>\n",
       "    </tr>\n",
       "    <tr>\n",
       "      <th>86299</th>\n",
       "      <td>kinoshita-koumuten</td>\n",
       "      <td>legit</td>\n",
       "    </tr>\n",
       "  </tbody>\n",
       "</table>\n",
       "</div>"
      ],
      "text/plain": [
       "                   domain  class\n",
       "70083       wildretroporn  legit\n",
       "47835       auctionsniper  legit\n",
       "64427    penggilabookmark  legit\n",
       "82951        alarabonline  legit\n",
       "86299  kinoshita-koumuten  legit"
      ]
     },
     "execution_count": 12,
     "metadata": {},
     "output_type": "execute_result"
    }
   ],
   "source": [
    "alexa_dataframe.head()"
   ]
  },
  {
   "cell_type": "code",
   "execution_count": 13,
   "metadata": {
    "scrolled": false
   },
   "outputs": [
    {
     "data": {
      "text/html": [
       "<div>\n",
       "<style>\n",
       "    .dataframe thead tr:only-child th {\n",
       "        text-align: right;\n",
       "    }\n",
       "\n",
       "    .dataframe thead th {\n",
       "        text-align: left;\n",
       "    }\n",
       "\n",
       "    .dataframe tbody tr th {\n",
       "        vertical-align: top;\n",
       "    }\n",
       "</style>\n",
       "<table border=\"1\" class=\"dataframe\">\n",
       "  <thead>\n",
       "    <tr style=\"text-align: right;\">\n",
       "      <th></th>\n",
       "      <th>raw_domain</th>\n",
       "    </tr>\n",
       "  </thead>\n",
       "  <tbody>\n",
       "    <tr>\n",
       "      <th>0</th>\n",
       "      <td>04055051be412eea5a61b7da8438be3d.info</td>\n",
       "    </tr>\n",
       "    <tr>\n",
       "      <th>1</th>\n",
       "      <td>1cb8a5f36f.info</td>\n",
       "    </tr>\n",
       "    <tr>\n",
       "      <th>2</th>\n",
       "      <td>30acd347397c34fc273e996b22951002.org</td>\n",
       "    </tr>\n",
       "    <tr>\n",
       "      <th>3</th>\n",
       "      <td>336c986a284e2b3bc0f69f949cb437cb.info</td>\n",
       "    </tr>\n",
       "    <tr>\n",
       "      <th>4</th>\n",
       "      <td>336c986a284e2b3bc0f69f949cb437cb.org</td>\n",
       "    </tr>\n",
       "  </tbody>\n",
       "</table>\n",
       "</div>"
      ],
      "text/plain": [
       "                               raw_domain\n",
       "0  04055051be412eea5a61b7da8438be3d.info \n",
       "1                        1cb8a5f36f.info \n",
       "2   30acd347397c34fc273e996b22951002.org \n",
       "3   336c986a284e2b3bc0f69f949cb437cb.info\n",
       "4   336c986a284e2b3bc0f69f949cb437cb.org "
      ]
     },
     "execution_count": 13,
     "metadata": {},
     "output_type": "execute_result"
    }
   ],
   "source": [
    "######开始读取dga域名\n",
    "dga_dataframe = pd.read_csv('data/dga_domains.txt',names=['raw_domain'],header=None,encoding='utf-8')\n",
    "dga_dataframe.head()\n",
    "#print dga_dataframe.count()"
   ]
  },
  {
   "cell_type": "code",
   "execution_count": 14,
   "metadata": {
    "scrolled": false
   },
   "outputs": [
    {
     "name": "stdout",
     "output_type": "stream",
     "text": [
      "raw_domain    2669\n",
      "dtype: int64\n"
     ]
    },
    {
     "data": {
      "text/plain": [
       "0    436\n",
       "dtype: int64"
      ]
     },
     "execution_count": 14,
     "metadata": {},
     "output_type": "execute_result"
    }
   ],
   "source": [
    "test = [domain_extract(url) for url in dga_dataframe['raw_domain']]\n",
    "test = pd.DataFrame(test)\n",
    "print dga_dataframe.count()\n",
    "test.count()\n",
    "#很明显从测试的结果来看，直接用tldextract提取dga域名效果差极了，我们注意到域名可以似乎直接通过.分割"
   ]
  },
  {
   "cell_type": "code",
   "execution_count": 15,
   "metadata": {
    "scrolled": false
   },
   "outputs": [
    {
     "name": "stdout",
     "output_type": "stream",
     "text": [
      "dga 域名总数为 2664\n",
      "使用的域名总数为 2397\n"
     ]
    }
   ],
   "source": [
    "#分割出域名\n",
    "dga_dataframe['domain'] = dga_dataframe.applymap(lambda x: x.split('.')[0].lower())\n",
    "#print dga_dataframe.head()\n",
    "del dga_dataframe['raw_domain']\n",
    "#删除为空和重复的数据\n",
    "dga_dataframe = dga_dataframe.dropna()\n",
    "dga_dataframe = dga_dataframe.drop_duplicates()\n",
    "dga_totol = dga_dataframe.shape[0]\n",
    "print \"dga 域名总数为 %d\" %dga_totol\n",
    "#print dga_dataframe.head()\n",
    "\n",
    "#设置分类\n",
    "dga_dataframe['class'] = 'dga'\n",
    "#听说掐头去尾效果更好。\n",
    "hold_out_dga = dga_dataframe[int(dga_totol*0.9):]\n",
    "dga_dataframe = dga_dataframe[:int(dga_totol*0.9)]\n",
    "print \"使用的域名总数为 %d\" %dga_dataframe.shape[0]\n"
   ]
  },
  {
   "cell_type": "code",
   "execution_count": 16,
   "metadata": {
    "scrolled": false
   },
   "outputs": [
    {
     "data": {
      "text/html": [
       "<div>\n",
       "<style>\n",
       "    .dataframe thead tr:only-child th {\n",
       "        text-align: right;\n",
       "    }\n",
       "\n",
       "    .dataframe thead th {\n",
       "        text-align: left;\n",
       "    }\n",
       "\n",
       "    .dataframe tbody tr th {\n",
       "        vertical-align: top;\n",
       "    }\n",
       "</style>\n",
       "<table border=\"1\" class=\"dataframe\">\n",
       "  <thead>\n",
       "    <tr style=\"text-align: right;\">\n",
       "      <th></th>\n",
       "      <th>domain</th>\n",
       "      <th>class</th>\n",
       "    </tr>\n",
       "  </thead>\n",
       "  <tbody>\n",
       "    <tr>\n",
       "      <th>0</th>\n",
       "      <td>04055051be412eea5a61b7da8438be3d</td>\n",
       "      <td>dga</td>\n",
       "    </tr>\n",
       "    <tr>\n",
       "      <th>1</th>\n",
       "      <td>1cb8a5f36f</td>\n",
       "      <td>dga</td>\n",
       "    </tr>\n",
       "    <tr>\n",
       "      <th>2</th>\n",
       "      <td>30acd347397c34fc273e996b22951002</td>\n",
       "      <td>dga</td>\n",
       "    </tr>\n",
       "    <tr>\n",
       "      <th>3</th>\n",
       "      <td>336c986a284e2b3bc0f69f949cb437cb</td>\n",
       "      <td>dga</td>\n",
       "    </tr>\n",
       "    <tr>\n",
       "      <th>5</th>\n",
       "      <td>40a43e61e56a5c218cf6c22aca27f7ee</td>\n",
       "      <td>dga</td>\n",
       "    </tr>\n",
       "  </tbody>\n",
       "</table>\n",
       "</div>"
      ],
      "text/plain": [
       "                             domain class\n",
       "0  04055051be412eea5a61b7da8438be3d   dga\n",
       "1                        1cb8a5f36f   dga\n",
       "2  30acd347397c34fc273e996b22951002   dga\n",
       "3  336c986a284e2b3bc0f69f949cb437cb   dga\n",
       "5  40a43e61e56a5c218cf6c22aca27f7ee   dga"
      ]
     },
     "execution_count": 16,
     "metadata": {},
     "output_type": "execute_result"
    }
   ],
   "source": [
    "dga_dataframe.head()"
   ]
  },
  {
   "cell_type": "code",
   "execution_count": 17,
   "metadata": {
    "scrolled": false
   },
   "outputs": [
    {
     "name": "stdout",
     "output_type": "stream",
     "text": [
      "               domain  class\n",
      "0       wildretroporn  legit\n",
      "1       auctionsniper  legit\n",
      "2    penggilabookmark  legit\n",
      "3        alarabonline  legit\n",
      "4  kinoshita-koumuten  legit\n"
     ]
    },
    {
     "data": {
      "text/plain": [
       "domain    84636\n",
       "class     84636\n",
       "dtype: int64"
      ]
     },
     "execution_count": 17,
     "metadata": {},
     "output_type": "execute_result"
    }
   ],
   "source": [
    "#把所有域名链接到一起\n",
    "all_domains = pd.concat([alexa_dataframe,dga_dataframe],ignore_index=True)\n",
    "print all_domains.head()\n",
    "all_domains.count()"
   ]
  },
  {
   "cell_type": "code",
   "execution_count": 18,
   "metadata": {
    "scrolled": false
   },
   "outputs": [],
   "source": [
    "#从之前可以看到合法域名和dga域名有着明显长度区别。\n",
    "all_domains['length'] = [len(x) for x in all_domains['domain']]"
   ]
  },
  {
   "cell_type": "code",
   "execution_count": 19,
   "metadata": {
    "scrolled": false
   },
   "outputs": [
    {
     "data": {
      "text/html": [
       "<div>\n",
       "<style>\n",
       "    .dataframe thead tr:only-child th {\n",
       "        text-align: right;\n",
       "    }\n",
       "\n",
       "    .dataframe thead th {\n",
       "        text-align: left;\n",
       "    }\n",
       "\n",
       "    .dataframe tbody tr th {\n",
       "        vertical-align: top;\n",
       "    }\n",
       "</style>\n",
       "<table border=\"1\" class=\"dataframe\">\n",
       "  <thead>\n",
       "    <tr style=\"text-align: right;\">\n",
       "      <th></th>\n",
       "      <th>domain</th>\n",
       "      <th>class</th>\n",
       "      <th>length</th>\n",
       "      <th>entropy</th>\n",
       "    </tr>\n",
       "  </thead>\n",
       "  <tbody>\n",
       "    <tr>\n",
       "      <th>0</th>\n",
       "      <td>wildretroporn</td>\n",
       "      <td>legit</td>\n",
       "      <td>13</td>\n",
       "      <td>3.180833</td>\n",
       "    </tr>\n",
       "    <tr>\n",
       "      <th>1</th>\n",
       "      <td>auctionsniper</td>\n",
       "      <td>legit</td>\n",
       "      <td>13</td>\n",
       "      <td>3.392747</td>\n",
       "    </tr>\n",
       "    <tr>\n",
       "      <th>2</th>\n",
       "      <td>penggilabookmark</td>\n",
       "      <td>legit</td>\n",
       "      <td>16</td>\n",
       "      <td>3.500000</td>\n",
       "    </tr>\n",
       "    <tr>\n",
       "      <th>3</th>\n",
       "      <td>alarabonline</td>\n",
       "      <td>legit</td>\n",
       "      <td>12</td>\n",
       "      <td>2.855389</td>\n",
       "    </tr>\n",
       "    <tr>\n",
       "      <th>4</th>\n",
       "      <td>kinoshita-koumuten</td>\n",
       "      <td>legit</td>\n",
       "      <td>18</td>\n",
       "      <td>3.503258</td>\n",
       "    </tr>\n",
       "  </tbody>\n",
       "</table>\n",
       "</div>"
      ],
      "text/plain": [
       "               domain  class  length   entropy\n",
       "0       wildretroporn  legit      13  3.180833\n",
       "1       auctionsniper  legit      13  3.392747\n",
       "2    penggilabookmark  legit      16  3.500000\n",
       "3        alarabonline  legit      12  2.855389\n",
       "4  kinoshita-koumuten  legit      18  3.503258"
      ]
     },
     "execution_count": 19,
     "metadata": {},
     "output_type": "execute_result"
    }
   ],
   "source": [
    "import math\n",
    "from collections import Counter\n",
    "#熵的计算公式\n",
    "def entropy(x):\n",
    "    p,lns = Counter(x) ,float(len(x))\n",
    "    return -sum(count/lns * math.log(count/lns,2) for count in p.values())\n",
    "#同样，将域名的信息熵作为一个特征\n",
    "all_domains['entropy'] = [entropy(x) for x in all_domains['domain']]\n",
    "all_domains.head()"
   ]
  },
  {
   "cell_type": "code",
   "execution_count": 20,
   "metadata": {
    "scrolled": false
   },
   "outputs": [
    {
     "data": {
      "text/html": [
       "<div>\n",
       "<style>\n",
       "    .dataframe thead tr:only-child th {\n",
       "        text-align: right;\n",
       "    }\n",
       "\n",
       "    .dataframe thead th {\n",
       "        text-align: left;\n",
       "    }\n",
       "\n",
       "    .dataframe tbody tr th {\n",
       "        vertical-align: top;\n",
       "    }\n",
       "</style>\n",
       "<table border=\"1\" class=\"dataframe\">\n",
       "  <thead>\n",
       "    <tr style=\"text-align: right;\">\n",
       "      <th></th>\n",
       "      <th>domain</th>\n",
       "      <th>class</th>\n",
       "      <th>length</th>\n",
       "      <th>entropy</th>\n",
       "    </tr>\n",
       "  </thead>\n",
       "  <tbody>\n",
       "    <tr>\n",
       "      <th>84631</th>\n",
       "      <td>ulxxqduryvv</td>\n",
       "      <td>dga</td>\n",
       "      <td>11</td>\n",
       "      <td>2.913977</td>\n",
       "    </tr>\n",
       "    <tr>\n",
       "      <th>84632</th>\n",
       "      <td>ummvzhin</td>\n",
       "      <td>dga</td>\n",
       "      <td>8</td>\n",
       "      <td>2.750000</td>\n",
       "    </tr>\n",
       "    <tr>\n",
       "      <th>84633</th>\n",
       "      <td>umsgnwgc</td>\n",
       "      <td>dga</td>\n",
       "      <td>8</td>\n",
       "      <td>2.750000</td>\n",
       "    </tr>\n",
       "    <tr>\n",
       "      <th>84634</th>\n",
       "      <td>umzsbhpkrgo</td>\n",
       "      <td>dga</td>\n",
       "      <td>11</td>\n",
       "      <td>3.459432</td>\n",
       "    </tr>\n",
       "    <tr>\n",
       "      <th>84635</th>\n",
       "      <td>umzuyjrfwyf</td>\n",
       "      <td>dga</td>\n",
       "      <td>11</td>\n",
       "      <td>2.913977</td>\n",
       "    </tr>\n",
       "  </tbody>\n",
       "</table>\n",
       "</div>"
      ],
      "text/plain": [
       "            domain class  length   entropy\n",
       "84631  ulxxqduryvv   dga      11  2.913977\n",
       "84632     ummvzhin   dga       8  2.750000\n",
       "84633     umsgnwgc   dga       8  2.750000\n",
       "84634  umzsbhpkrgo   dga      11  3.459432\n",
       "84635  umzuyjrfwyf   dga      11  2.913977"
      ]
     },
     "execution_count": 20,
     "metadata": {},
     "output_type": "execute_result"
    }
   ],
   "source": [
    "all_domains.tail()"
   ]
  },
  {
   "cell_type": "code",
   "execution_count": 21,
   "metadata": {
    "scrolled": false
   },
   "outputs": [],
   "source": [
    "##################开始绘图"
   ]
  },
  {
   "cell_type": "code",
   "execution_count": 22,
   "metadata": {
    "scrolled": false
   },
   "outputs": [
    {
     "name": "stderr",
     "output_type": "stream",
     "text": [
      "/home/sun/.local/lib/python2.7/site-packages/numpy/core/fromnumeric.py:57: FutureWarning: reshape is deprecated and will raise in a subsequent release. Please use .values.reshape(...) instead\n",
      "  return getattr(obj, method)(*args, **kwds)\n"
     ]
    },
    {
     "data": {
      "image/png": "[encoded data removed]",
      "text/plain": [
       "<matplotlib.figure.Figure at 0x7f1a12065110>"
      ]
     },
     "metadata": {},
     "output_type": "display_data"
    },
    {
     "data": {
      "image/png": "[encoded data removed]",
      "text/plain": [
       "<matplotlib.figure.Figure at 0x7f1a10c5a790>"
      ]
     },
     "metadata": {},
     "output_type": "display_data"
    }
   ],
   "source": [
    "#通过盒图来查看整个数据分布\n",
    "import matplotlib.pylab as plt\n",
    "all_domains.boxplot('length','class')\n",
    "plt.ylabel('length')\n",
    "all_domains.boxplot('entropy','class')\n",
    "plt.ylabel('entropy')\n",
    "plt.show()"
   ]
  },
  {
   "cell_type": "code",
   "execution_count": 23,
   "metadata": {
    "scrolled": false
   },
   "outputs": [
    {
     "data": {
      "image/png": "[encoded data removed]",
      "text/plain": [
       "<matplotlib.figure.Figure at 0x7f1a10aae3d0>"
      ]
     },
     "metadata": {},
     "output_type": "display_data"
    }
   ],
   "source": [
    "cond = all_domains['class'] == 'dga'\n",
    "dga = all_domains[cond]\n",
    "alexa = all_domains[~cond]\n",
    "plt.scatter(alexa['length'],alexa['entropy'],s=140,c='#aaaaff',label='Alexa',alpha=.2)\n",
    "plt.scatter(dga['length'],dga['entropy'],s=40,c='r',label='dga',alpha=.3)\n",
    "plt.xlabel('domain length')\n",
    "plt.ylabel('domain entropy')\n",
    "plt.show()"
   ]
  },
  {
   "cell_type": "code",
   "execution_count": 24,
   "metadata": {
    "scrolled": false
   },
   "outputs": [],
   "source": [
    "#构建训练X输入矩阵\n",
    "X = all_domains.as_matrix(['length','entropy'])\n",
    "#构建y结果\n",
    "y= np.array(all_domains['class'].tolist())"
   ]
  },
  {
   "cell_type": "code",
   "execution_count": 25,
   "metadata": {
    "scrolled": false
   },
   "outputs": [],
   "source": [
    "import sklearn.ensemble\n",
    "clf = sklearn.ensemble.RandomForestClassifier(n_estimators=20)"
   ]
  },
  {
   "cell_type": "code",
   "execution_count": 26,
   "metadata": {
    "scrolled": false
   },
   "outputs": [
    {
     "name": "stderr",
     "output_type": "stream",
     "text": [
      "/home/sun/.local/lib/python2.7/site-packages/sklearn/cross_validation.py:41: DeprecationWarning: This module was deprecated in version 0.18 in favor of the model_selection module into which all the refactored classes and functions are moved. Also note that the interface of the new CV iterators are different from that of this module. This module will be removed in 0.20.\n",
      "  \"This module will be removed in 0.20.\", DeprecationWarning)\n"
     ]
    },
    {
     "name": "stdout",
     "output_type": "stream",
     "text": [
      "[ 0.9768431   0.97666588  0.97707804  0.97636911  0.9733546 ]\n"
     ]
    }
   ],
   "source": [
    "from sklearn.cross_validation import cross_val_score\n",
    "scores = cross_val_score(clf,X,y,cv=5,n_jobs=4)\n",
    "print scores\n",
    "#emmmmm这个大概97.5的准确率甚是喜人啊"
   ]
  },
  {
   "cell_type": "code",
   "execution_count": 27,
   "metadata": {
    "scrolled": false
   },
   "outputs": [],
   "source": [
    "from sklearn.cross_validation import train_test_split\n",
    "#取一个8比2的分割来通过混淆矩阵看一下预测效果\n",
    "X_train,X_test,y_train,y_test = train_test_split(X,y,test_size=0.2)\n",
    "clf.fit(X_train,y_train)\n",
    "y_pred = clf.predict(X_test)"
   ]
  },
  {
   "cell_type": "code",
   "execution_count": 28,
   "metadata": {
    "scrolled": false
   },
   "outputs": [
    {
     "name": "stdout",
     "output_type": "stream",
     "text": [
      "legit     dga\n",
      "[[16384    21]\n",
      " [  439    84]]\n"
     ]
    }
   ],
   "source": [
    "from sklearn.metrics import confusion_matrix\n",
    "labels = ['legit','dga']\n",
    "cm = confusion_matrix(y_test,y_pred,labels)\n",
    "print \"legit     dga\"\n",
    "print cm"
   ]
  },
  {
   "cell_type": "code",
   "execution_count": 29,
   "metadata": {
    "scrolled": false
   },
   "outputs": [
    {
     "data": {
      "text/plain": [
       "CountVectorizer(analyzer='char', binary=False, decode_error=u'strict',\n",
       "        dtype=<type 'numpy.int64'>, encoding=u'utf-8', input=u'content',\n",
       "        lowercase=True, max_df=1.0, max_features=None, min_df=1,\n",
       "        ngram_range=(1, 1), preprocessor=None, stop_words=None,\n",
       "        strip_accents=None, token_pattern=u'(?u)\\\\b\\\\w\\\\w+\\\\b',\n",
       "        tokenizer=None, vocabulary=None)"
      ]
     },
     "execution_count": 29,
     "metadata": {},
     "output_type": "execute_result"
    }
   ],
   "source": [
    "##但是我们看到几乎所有的域名都被分到合法区域，对dga的探测效果非常差\n",
    "##试试增加更多的特征能不能提升效果\n",
    "##利用文本分析来创建特征,首先提取通用向量\n",
    "alexa_vc = sklearn.feature_extraction.text.CountVectorizer(analyzer = 'char')\n",
    "alexa_vc"
   ]
  },
  {
   "cell_type": "code",
   "execution_count": 30,
   "metadata": {
    "scrolled": false
   },
   "outputs": [],
   "source": [
    "################### NGrams算法\n",
    "counts_matrix = alexa_vc.fit_transform(alexa_dataframe['domain'])\n",
    "alexa_counts = np.log10(counts_matrix.sum(axis=0).getA1())\n",
    "ngrams_list = alexa_vc.get_feature_names()"
   ]
  },
  {
   "cell_type": "code",
   "execution_count": 31,
   "metadata": {
    "scrolled": false
   },
   "outputs": [
    {
     "data": {
      "text/html": [
       "<div>\n",
       "<style>\n",
       "    .dataframe thead tr:only-child th {\n",
       "        text-align: right;\n",
       "    }\n",
       "\n",
       "    .dataframe thead th {\n",
       "        text-align: left;\n",
       "    }\n",
       "\n",
       "    .dataframe tbody tr th {\n",
       "        vertical-align: top;\n",
       "    }\n",
       "</style>\n",
       "<table border=\"1\" class=\"dataframe\">\n",
       "  <thead>\n",
       "    <tr style=\"text-align: right;\">\n",
       "      <th></th>\n",
       "      <th>word</th>\n",
       "    </tr>\n",
       "  </thead>\n",
       "  <tbody>\n",
       "    <tr>\n",
       "      <th>0</th>\n",
       "      <td>1080</td>\n",
       "    </tr>\n",
       "    <tr>\n",
       "      <th>1</th>\n",
       "      <td>10-point</td>\n",
       "    </tr>\n",
       "    <tr>\n",
       "      <th>2</th>\n",
       "      <td>10th</td>\n",
       "    </tr>\n",
       "    <tr>\n",
       "      <th>3</th>\n",
       "      <td>11-point</td>\n",
       "    </tr>\n",
       "    <tr>\n",
       "      <th>4</th>\n",
       "      <td>12-point</td>\n",
       "    </tr>\n",
       "  </tbody>\n",
       "</table>\n",
       "</div>"
      ],
      "text/plain": [
       "       word\n",
       "0      1080\n",
       "1  10-point\n",
       "2      10th\n",
       "3  11-point\n",
       "4  12-point"
      ]
     },
     "execution_count": 31,
     "metadata": {},
     "output_type": "execute_result"
    }
   ],
   "source": [
    "#创建字典\n",
    "word_dataframe = pd.read_csv('data/words.txt',names=['word'],header=None,dtype={'word':np.str},encoding='utf-8')\n",
    "#################高能注意##############\n",
    "#word_dataframe = word_dataframe[word_dataframe['word'].map(lambda x: str(x).isalpha())]\n",
    "word_dataframe = word_dataframe.applymap(lambda x: str(x).lower())\n",
    "word_dataframe.head()"
   ]
  },
  {
   "cell_type": "code",
   "execution_count": 47,
   "metadata": {
    "scrolled": false
   },
   "outputs": [],
   "source": [
    "dict_vc = sklearn.feature_extraction.text.CountVectorizer(analyzer='char', ngram_range=(3,5), min_df=1e-5, max_df=1.0)\n",
    "counts_matrix = dict_vc.fit_transform(word_dataframe['word'])\n",
    "dict_counts = np.log10(counts_matrix.sum(axis=0).getA1())\n",
    "ngrams_list = dict_vc.get_feature_names()\n"
   ]
  },
  {
   "cell_type": "code",
   "execution_count": 33,
   "metadata": {
    "scrolled": false
   },
   "outputs": [
    {
     "name": "stdout",
     "output_type": "stream",
     "text": [
      "google Alexa match 27 Dict match: 15\n",
      "facebook Alexa match 36 Dict match: 28\n",
      "1cb8a5f36f Alexa match 37 Dict match: 0\n",
      "pterodactylfarts Alexa match 73 Dict match: 77\n",
      "ptes9dro-dwacty2lfa5rrts Alexa match 104 Dict match: 37\n",
      "beyonce Alexa match 32 Dict match: 16\n",
      "bey666on4ce Alexa match 44 Dict match: 1\n"
     ]
    }
   ],
   "source": [
    "def ngram_count(domain):\n",
    "    alexa_match = alexa_counts * alexa_vc.transform([domain]).T\n",
    "    dict_match = dict_counts * dict_vc.transform([domain]).T\n",
    "    print '%s Alexa match %d Dict match: %d' %(domain,alexa_match,dict_match)\n",
    "##测试一些例子\n",
    "# Examples:\n",
    "ngram_count('google')\n",
    "ngram_count('facebook')\n",
    "ngram_count('1cb8a5f36f')\n",
    "ngram_count('pterodactylfarts')\n",
    "ngram_count('ptes9dro-dwacty2lfa5rrts')\n",
    "ngram_count('beyonce')\n",
    "ngram_count('bey666on4ce')"
   ]
  },
  {
   "cell_type": "code",
   "execution_count": 34,
   "metadata": {
    "scrolled": false
   },
   "outputs": [
    {
     "data": {
      "text/html": [
       "<div>\n",
       "<style>\n",
       "    .dataframe thead tr:only-child th {\n",
       "        text-align: right;\n",
       "    }\n",
       "\n",
       "    .dataframe thead th {\n",
       "        text-align: left;\n",
       "    }\n",
       "\n",
       "    .dataframe tbody tr th {\n",
       "        vertical-align: top;\n",
       "    }\n",
       "</style>\n",
       "<table border=\"1\" class=\"dataframe\">\n",
       "  <thead>\n",
       "    <tr style=\"text-align: right;\">\n",
       "      <th></th>\n",
       "      <th>domain</th>\n",
       "      <th>class</th>\n",
       "      <th>length</th>\n",
       "      <th>entropy</th>\n",
       "      <th>alexa_grams</th>\n",
       "      <th>word_grams</th>\n",
       "    </tr>\n",
       "  </thead>\n",
       "  <tbody>\n",
       "    <tr>\n",
       "      <th>0</th>\n",
       "      <td>wildretroporn</td>\n",
       "      <td>legit</td>\n",
       "      <td>13</td>\n",
       "      <td>3.180833</td>\n",
       "      <td>59.815121</td>\n",
       "      <td>64.717220</td>\n",
       "    </tr>\n",
       "    <tr>\n",
       "      <th>1</th>\n",
       "      <td>auctionsniper</td>\n",
       "      <td>legit</td>\n",
       "      <td>13</td>\n",
       "      <td>3.392747</td>\n",
       "      <td>60.492861</td>\n",
       "      <td>67.217935</td>\n",
       "    </tr>\n",
       "    <tr>\n",
       "      <th>2</th>\n",
       "      <td>penggilabookmark</td>\n",
       "      <td>legit</td>\n",
       "      <td>16</td>\n",
       "      <td>3.500000</td>\n",
       "      <td>72.582843</td>\n",
       "      <td>61.465622</td>\n",
       "    </tr>\n",
       "    <tr>\n",
       "      <th>3</th>\n",
       "      <td>alarabonline</td>\n",
       "      <td>legit</td>\n",
       "      <td>12</td>\n",
       "      <td>2.855389</td>\n",
       "      <td>56.268948</td>\n",
       "      <td>54.747862</td>\n",
       "    </tr>\n",
       "    <tr>\n",
       "      <th>4</th>\n",
       "      <td>kinoshita-koumuten</td>\n",
       "      <td>legit</td>\n",
       "      <td>18</td>\n",
       "      <td>3.503258</td>\n",
       "      <td>81.661109</td>\n",
       "      <td>57.471055</td>\n",
       "    </tr>\n",
       "  </tbody>\n",
       "</table>\n",
       "</div>"
      ],
      "text/plain": [
       "               domain  class  length   entropy  alexa_grams  word_grams\n",
       "0       wildretroporn  legit      13  3.180833    59.815121   64.717220\n",
       "1       auctionsniper  legit      13  3.392747    60.492861   67.217935\n",
       "2    penggilabookmark  legit      16  3.500000    72.582843   61.465622\n",
       "3        alarabonline  legit      12  2.855389    56.268948   54.747862\n",
       "4  kinoshita-koumuten  legit      18  3.503258    81.661109   57.471055"
      ]
     },
     "execution_count": 34,
     "metadata": {},
     "output_type": "execute_result"
    }
   ],
   "source": [
    "all_domains['alexa_grams'] = alexa_counts * alexa_vc.transform(all_domains['domain']).T\n",
    "all_domains['word_grams'] = dict_counts * dict_vc.transform(all_domains['domain']).T    \n",
    "all_domains.head()"
   ]
  },
  {
   "cell_type": "code",
   "execution_count": 35,
   "metadata": {
    "scrolled": false
   },
   "outputs": [
    {
     "data": {
      "text/html": [
       "<div>\n",
       "<style>\n",
       "    .dataframe thead tr:only-child th {\n",
       "        text-align: right;\n",
       "    }\n",
       "\n",
       "    .dataframe thead th {\n",
       "        text-align: left;\n",
       "    }\n",
       "\n",
       "    .dataframe tbody tr th {\n",
       "        vertical-align: top;\n",
       "    }\n",
       "</style>\n",
       "<table border=\"1\" class=\"dataframe\">\n",
       "  <thead>\n",
       "    <tr style=\"text-align: right;\">\n",
       "      <th></th>\n",
       "      <th>domain</th>\n",
       "      <th>class</th>\n",
       "      <th>length</th>\n",
       "      <th>entropy</th>\n",
       "      <th>alexa_grams</th>\n",
       "      <th>word_grams</th>\n",
       "    </tr>\n",
       "  </thead>\n",
       "  <tbody>\n",
       "    <tr>\n",
       "      <th>84631</th>\n",
       "      <td>ulxxqduryvv</td>\n",
       "      <td>dga</td>\n",
       "      <td>11</td>\n",
       "      <td>2.913977</td>\n",
       "      <td>45.321817</td>\n",
       "      <td>6.570487</td>\n",
       "    </tr>\n",
       "    <tr>\n",
       "      <th>84632</th>\n",
       "      <td>ummvzhin</td>\n",
       "      <td>dga</td>\n",
       "      <td>8</td>\n",
       "      <td>2.750000</td>\n",
       "      <td>34.648715</td>\n",
       "      <td>7.322644</td>\n",
       "    </tr>\n",
       "    <tr>\n",
       "      <th>84633</th>\n",
       "      <td>umsgnwgc</td>\n",
       "      <td>dga</td>\n",
       "      <td>8</td>\n",
       "      <td>2.750000</td>\n",
       "      <td>35.159127</td>\n",
       "      <td>3.917716</td>\n",
       "    </tr>\n",
       "    <tr>\n",
       "      <th>84634</th>\n",
       "      <td>umzsbhpkrgo</td>\n",
       "      <td>dga</td>\n",
       "      <td>11</td>\n",
       "      <td>3.459432</td>\n",
       "      <td>47.996822</td>\n",
       "      <td>2.579784</td>\n",
       "    </tr>\n",
       "    <tr>\n",
       "      <th>84635</th>\n",
       "      <td>umzuyjrfwyf</td>\n",
       "      <td>dga</td>\n",
       "      <td>11</td>\n",
       "      <td>2.913977</td>\n",
       "      <td>45.797549</td>\n",
       "      <td>0.000000</td>\n",
       "    </tr>\n",
       "  </tbody>\n",
       "</table>\n",
       "</div>"
      ],
      "text/plain": [
       "            domain class  length   entropy  alexa_grams  word_grams\n",
       "84631  ulxxqduryvv   dga      11  2.913977    45.321817    6.570487\n",
       "84632     ummvzhin   dga       8  2.750000    34.648715    7.322644\n",
       "84633     umsgnwgc   dga       8  2.750000    35.159127    3.917716\n",
       "84634  umzsbhpkrgo   dga      11  3.459432    47.996822    2.579784\n",
       "84635  umzuyjrfwyf   dga      11  2.913977    45.797549    0.000000"
      ]
     },
     "execution_count": 35,
     "metadata": {},
     "output_type": "execute_result"
    }
   ],
   "source": [
    "all_domains.tail()"
   ]
  },
  {
   "cell_type": "code",
   "execution_count": 36,
   "metadata": {
    "scrolled": false
   },
   "outputs": [
    {
     "data": {
      "text/html": [
       "<div>\n",
       "<style>\n",
       "    .dataframe thead tr:only-child th {\n",
       "        text-align: right;\n",
       "    }\n",
       "\n",
       "    .dataframe thead th {\n",
       "        text-align: left;\n",
       "    }\n",
       "\n",
       "    .dataframe tbody tr th {\n",
       "        vertical-align: top;\n",
       "    }\n",
       "</style>\n",
       "<table border=\"1\" class=\"dataframe\">\n",
       "  <thead>\n",
       "    <tr style=\"text-align: right;\">\n",
       "      <th></th>\n",
       "      <th>domain</th>\n",
       "      <th>class</th>\n",
       "      <th>length</th>\n",
       "      <th>entropy</th>\n",
       "      <th>alexa_grams</th>\n",
       "      <th>word_grams</th>\n",
       "      <th>diff</th>\n",
       "    </tr>\n",
       "  </thead>\n",
       "  <tbody>\n",
       "    <tr>\n",
       "      <th>21878</th>\n",
       "      <td>article-directory-free-submission-free-content</td>\n",
       "      <td>legit</td>\n",
       "      <td>46</td>\n",
       "      <td>3.786816</td>\n",
       "      <td>209.230149</td>\n",
       "      <td>296.502115</td>\n",
       "      <td>-87.271966</td>\n",
       "    </tr>\n",
       "    <tr>\n",
       "      <th>38582</th>\n",
       "      <td>universal-pictures-international-germany</td>\n",
       "      <td>legit</td>\n",
       "      <td>40</td>\n",
       "      <td>3.843943</td>\n",
       "      <td>182.951227</td>\n",
       "      <td>260.874717</td>\n",
       "      <td>-77.923490</td>\n",
       "    </tr>\n",
       "    <tr>\n",
       "      <th>30713</th>\n",
       "      <td>internetmarketingmastermindalliance</td>\n",
       "      <td>legit</td>\n",
       "      <td>35</td>\n",
       "      <td>3.451310</td>\n",
       "      <td>163.064807</td>\n",
       "      <td>238.869357</td>\n",
       "      <td>-75.804550</td>\n",
       "    </tr>\n",
       "    <tr>\n",
       "      <th>18961</th>\n",
       "      <td>stirringtroubleinternationally</td>\n",
       "      <td>legit</td>\n",
       "      <td>30</td>\n",
       "      <td>3.481728</td>\n",
       "      <td>139.375894</td>\n",
       "      <td>213.229322</td>\n",
       "      <td>-73.853428</td>\n",
       "    </tr>\n",
       "    <tr>\n",
       "      <th>81480</th>\n",
       "      <td>americansforresponsiblesolutions</td>\n",
       "      <td>legit</td>\n",
       "      <td>32</td>\n",
       "      <td>3.667838</td>\n",
       "      <td>148.798858</td>\n",
       "      <td>222.154479</td>\n",
       "      <td>-73.355621</td>\n",
       "    </tr>\n",
       "    <tr>\n",
       "      <th>70055</th>\n",
       "      <td>commercialistatelematico</td>\n",
       "      <td>legit</td>\n",
       "      <td>24</td>\n",
       "      <td>3.229574</td>\n",
       "      <td>111.940200</td>\n",
       "      <td>174.536563</td>\n",
       "      <td>-62.596362</td>\n",
       "    </tr>\n",
       "    <tr>\n",
       "      <th>59042</th>\n",
       "      <td>internationallatestnews</td>\n",
       "      <td>legit</td>\n",
       "      <td>23</td>\n",
       "      <td>3.153572</td>\n",
       "      <td>107.885584</td>\n",
       "      <td>167.854105</td>\n",
       "      <td>-59.968521</td>\n",
       "    </tr>\n",
       "    <tr>\n",
       "      <th>4643</th>\n",
       "      <td>courrierinternational</td>\n",
       "      <td>legit</td>\n",
       "      <td>21</td>\n",
       "      <td>3.177566</td>\n",
       "      <td>98.602357</td>\n",
       "      <td>157.410113</td>\n",
       "      <td>-58.807755</td>\n",
       "    </tr>\n",
       "    <tr>\n",
       "      <th>58884</th>\n",
       "      <td>consumerincentivepromotions</td>\n",
       "      <td>legit</td>\n",
       "      <td>27</td>\n",
       "      <td>3.439711</td>\n",
       "      <td>125.055162</td>\n",
       "      <td>183.839349</td>\n",
       "      <td>-58.784187</td>\n",
       "    </tr>\n",
       "    <tr>\n",
       "      <th>49163</th>\n",
       "      <td>electrical-engineering-portal</td>\n",
       "      <td>legit</td>\n",
       "      <td>29</td>\n",
       "      <td>3.456974</td>\n",
       "      <td>133.481872</td>\n",
       "      <td>191.406109</td>\n",
       "      <td>-57.924237</td>\n",
       "    </tr>\n",
       "  </tbody>\n",
       "</table>\n",
       "</div>"
      ],
      "text/plain": [
       "                                               domain  class  length  \\\n",
       "21878  article-directory-free-submission-free-content  legit      46   \n",
       "38582        universal-pictures-international-germany  legit      40   \n",
       "30713             internetmarketingmastermindalliance  legit      35   \n",
       "18961                  stirringtroubleinternationally  legit      30   \n",
       "81480                americansforresponsiblesolutions  legit      32   \n",
       "70055                        commercialistatelematico  legit      24   \n",
       "59042                         internationallatestnews  legit      23   \n",
       "4643                            courrierinternational  legit      21   \n",
       "58884                     consumerincentivepromotions  legit      27   \n",
       "49163                   electrical-engineering-portal  legit      29   \n",
       "\n",
       "        entropy  alexa_grams  word_grams       diff  \n",
       "21878  3.786816   209.230149  296.502115 -87.271966  \n",
       "38582  3.843943   182.951227  260.874717 -77.923490  \n",
       "30713  3.451310   163.064807  238.869357 -75.804550  \n",
       "18961  3.481728   139.375894  213.229322 -73.853428  \n",
       "81480  3.667838   148.798858  222.154479 -73.355621  \n",
       "70055  3.229574   111.940200  174.536563 -62.596362  \n",
       "59042  3.153572   107.885584  167.854105 -59.968521  \n",
       "4643   3.177566    98.602357  157.410113 -58.807755  \n",
       "58884  3.439711   125.055162  183.839349 -58.784187  \n",
       "49163  3.456974   133.481872  191.406109 -57.924237  "
      ]
     },
     "execution_count": 36,
     "metadata": {},
     "output_type": "execute_result"
    }
   ],
   "source": [
    "#总会有存在两个ngram差值不存在的位置\n",
    "all_domains['diff'] = all_domains['alexa_grams'] - all_domains['word_grams']\n",
    "all_domains.sort_values(['diff'],ascending=True).head(10)"
   ]
  },
  {
   "cell_type": "code",
   "execution_count": 37,
   "metadata": {
    "scrolled": false
   },
   "outputs": [
    {
     "data": {
      "text/html": [
       "<div>\n",
       "<style>\n",
       "    .dataframe thead tr:only-child th {\n",
       "        text-align: right;\n",
       "    }\n",
       "\n",
       "    .dataframe thead th {\n",
       "        text-align: left;\n",
       "    }\n",
       "\n",
       "    .dataframe tbody tr th {\n",
       "        vertical-align: top;\n",
       "    }\n",
       "</style>\n",
       "<table border=\"1\" class=\"dataframe\">\n",
       "  <thead>\n",
       "    <tr style=\"text-align: right;\">\n",
       "      <th></th>\n",
       "      <th>domain</th>\n",
       "      <th>class</th>\n",
       "      <th>length</th>\n",
       "      <th>entropy</th>\n",
       "      <th>alexa_grams</th>\n",
       "      <th>word_grams</th>\n",
       "      <th>diff</th>\n",
       "    </tr>\n",
       "  </thead>\n",
       "  <tbody>\n",
       "    <tr>\n",
       "      <th>83640</th>\n",
       "      <td>lrl28i65l68j56f22a17o51p22l48cwjro21dug13eu</td>\n",
       "      <td>dga</td>\n",
       "      <td>43</td>\n",
       "      <td>4.175696</td>\n",
       "      <td>163.605861</td>\n",
       "      <td>1.612784</td>\n",
       "      <td>161.993077</td>\n",
       "    </tr>\n",
       "    <tr>\n",
       "      <th>82971</th>\n",
       "      <td>fyo21o21h54a37o41gtfsf22d40g43oqnvhuc59i25</td>\n",
       "      <td>dga</td>\n",
       "      <td>42</td>\n",
       "      <td>4.252453</td>\n",
       "      <td>161.021455</td>\n",
       "      <td>2.071882</td>\n",
       "      <td>158.949573</td>\n",
       "    </tr>\n",
       "    <tr>\n",
       "      <th>83544</th>\n",
       "      <td>kuh24p52d40n30n20lwp32mxo31g43lvlsgtdwh54</td>\n",
       "      <td>dga</td>\n",
       "      <td>41</td>\n",
       "      <td>4.198777</td>\n",
       "      <td>158.605675</td>\n",
       "      <td>0.954243</td>\n",
       "      <td>157.651433</td>\n",
       "    </tr>\n",
       "    <tr>\n",
       "      <th>83099</th>\n",
       "      <td>h54k47gvd50p32dvm29iwi35eyf22d60mwb38j36h64</td>\n",
       "      <td>dga</td>\n",
       "      <td>43</td>\n",
       "      <td>4.332787</td>\n",
       "      <td>159.388414</td>\n",
       "      <td>3.295787</td>\n",
       "      <td>156.092627</td>\n",
       "    </tr>\n",
       "    <tr>\n",
       "      <th>82611</th>\n",
       "      <td>d20eqh34b38mxj16fxcrm59crg63i65gva37p22n20</td>\n",
       "      <td>dga</td>\n",
       "      <td>42</td>\n",
       "      <td>4.564820</td>\n",
       "      <td>158.065761</td>\n",
       "      <td>2.643453</td>\n",
       "      <td>155.422308</td>\n",
       "    </tr>\n",
       "    <tr>\n",
       "      <th>82757</th>\n",
       "      <td>e61mupwpyp62gtp62ksd60bse31i15c29e61b18at</td>\n",
       "      <td>dga</td>\n",
       "      <td>41</td>\n",
       "      <td>4.217819</td>\n",
       "      <td>160.848948</td>\n",
       "      <td>5.686422</td>\n",
       "      <td>155.162526</td>\n",
       "    </tr>\n",
       "    <tr>\n",
       "      <th>83300</th>\n",
       "      <td>itm19frp62b28auo21esjzo31f42o11j66lqdsc69</td>\n",
       "      <td>dga</td>\n",
       "      <td>41</td>\n",
       "      <td>4.373051</td>\n",
       "      <td>158.637189</td>\n",
       "      <td>3.625724</td>\n",
       "      <td>155.011465</td>\n",
       "    </tr>\n",
       "    <tr>\n",
       "      <th>82599</th>\n",
       "      <td>cyh14fqh14h54e41bukveqa37j66aql18i35g53i15</td>\n",
       "      <td>dga</td>\n",
       "      <td>42</td>\n",
       "      <td>4.204834</td>\n",
       "      <td>157.029594</td>\n",
       "      <td>2.688420</td>\n",
       "      <td>154.341174</td>\n",
       "    </tr>\n",
       "    <tr>\n",
       "      <th>82359</th>\n",
       "      <td>aypvj36a27d30ezb48k17ixgqaxf12e31c39k17pu</td>\n",
       "      <td>dga</td>\n",
       "      <td>41</td>\n",
       "      <td>4.491460</td>\n",
       "      <td>155.700720</td>\n",
       "      <td>1.414973</td>\n",
       "      <td>154.285747</td>\n",
       "    </tr>\n",
       "    <tr>\n",
       "      <th>83966</th>\n",
       "      <td>o61pxn40bwfwcqi25k37k37cxn40mqeqi15m49h14</td>\n",
       "      <td>dga</td>\n",
       "      <td>41</td>\n",
       "      <td>4.393899</td>\n",
       "      <td>154.018117</td>\n",
       "      <td>0.000000</td>\n",
       "      <td>154.018117</td>\n",
       "    </tr>\n",
       "    <tr>\n",
       "      <th>83546</th>\n",
       "      <td>kvb48f42eznqj16p42fqnzn20b48dtb58l58f52ks</td>\n",
       "      <td>dga</td>\n",
       "      <td>41</td>\n",
       "      <td>4.161953</td>\n",
       "      <td>153.804849</td>\n",
       "      <td>0.000000</td>\n",
       "      <td>153.804849</td>\n",
       "    </tr>\n",
       "    <tr>\n",
       "      <th>83393</th>\n",
       "      <td>jqn50gvn40jte41c59lrm69kvh54etc19k37byp22</td>\n",
       "      <td>dga</td>\n",
       "      <td>41</td>\n",
       "      <td>4.521829</td>\n",
       "      <td>155.947516</td>\n",
       "      <td>3.591065</td>\n",
       "      <td>152.356452</td>\n",
       "    </tr>\n",
       "    <tr>\n",
       "      <th>83960</th>\n",
       "      <td>o31czgqprj36n30o31l18myg53fxb58pvi45k67js</td>\n",
       "      <td>dga</td>\n",
       "      <td>41</td>\n",
       "      <td>4.549761</td>\n",
       "      <td>154.646439</td>\n",
       "      <td>2.482874</td>\n",
       "      <td>152.163565</td>\n",
       "    </tr>\n",
       "    <tr>\n",
       "      <th>83937</th>\n",
       "      <td>nwm29dsdtd30l28h14o21iud10g43prnvfvoyhs</td>\n",
       "      <td>dga</td>\n",
       "      <td>39</td>\n",
       "      <td>4.426177</td>\n",
       "      <td>156.250502</td>\n",
       "      <td>4.448397</td>\n",
       "      <td>151.802105</td>\n",
       "    </tr>\n",
       "    <tr>\n",
       "      <th>83559</th>\n",
       "      <td>kxb18b58lxf52e31n30n60m39gqmxnqkva67c59jw</td>\n",
       "      <td>dga</td>\n",
       "      <td>41</td>\n",
       "      <td>4.454636</td>\n",
       "      <td>152.908824</td>\n",
       "      <td>1.397940</td>\n",
       "      <td>151.510884</td>\n",
       "    </tr>\n",
       "    <tr>\n",
       "      <th>83395</th>\n",
       "      <td>jre51o21h44h34jrnqnym39ixnrp42juo41arn40</td>\n",
       "      <td>dga</td>\n",
       "      <td>40</td>\n",
       "      <td>4.096439</td>\n",
       "      <td>156.653609</td>\n",
       "      <td>5.452617</td>\n",
       "      <td>151.200992</td>\n",
       "    </tr>\n",
       "    <tr>\n",
       "      <th>84149</th>\n",
       "      <td>pqm29f42mwdxg13nuh64o41nxb48jvc59mwj66ex</td>\n",
       "      <td>dga</td>\n",
       "      <td>40</td>\n",
       "      <td>4.465312</td>\n",
       "      <td>151.081331</td>\n",
       "      <td>0.000000</td>\n",
       "      <td>151.081331</td>\n",
       "    </tr>\n",
       "    <tr>\n",
       "      <th>83663</th>\n",
       "      <td>lvmyg13b68e21iye61h64l68j16ewi15p42gydrh34</td>\n",
       "      <td>dga</td>\n",
       "      <td>42</td>\n",
       "      <td>4.166509</td>\n",
       "      <td>160.365487</td>\n",
       "      <td>9.403602</td>\n",
       "      <td>150.961885</td>\n",
       "    </tr>\n",
       "    <tr>\n",
       "      <th>83683</th>\n",
       "      <td>m19b48o61hsewkyf12c49p62jyaxoxk37p32b28i65</td>\n",
       "      <td>dga</td>\n",
       "      <td>42</td>\n",
       "      <td>4.499228</td>\n",
       "      <td>158.445944</td>\n",
       "      <td>7.741426</td>\n",
       "      <td>150.704519</td>\n",
       "    </tr>\n",
       "    <tr>\n",
       "      <th>82729</th>\n",
       "      <td>dxbwl48j46p22k47kzfuh14hxp52bya27pxa37ir</td>\n",
       "      <td>dga</td>\n",
       "      <td>40</td>\n",
       "      <td>4.365312</td>\n",
       "      <td>152.451111</td>\n",
       "      <td>1.982271</td>\n",
       "      <td>150.468840</td>\n",
       "    </tr>\n",
       "    <tr>\n",
       "      <th>82955</th>\n",
       "      <td>fvj66gylqiyf42e31gyi65aro61a37c39b28n20dq</td>\n",
       "      <td>dga</td>\n",
       "      <td>41</td>\n",
       "      <td>4.521829</td>\n",
       "      <td>156.109306</td>\n",
       "      <td>6.102393</td>\n",
       "      <td>150.006913</td>\n",
       "    </tr>\n",
       "    <tr>\n",
       "      <th>83822</th>\n",
       "      <td>n50b68d50j66jxdrfvnzpua27pzl28h54k37hth44</td>\n",
       "      <td>dga</td>\n",
       "      <td>41</td>\n",
       "      <td>4.454636</td>\n",
       "      <td>154.001157</td>\n",
       "      <td>4.002814</td>\n",
       "      <td>149.998343</td>\n",
       "    </tr>\n",
       "    <tr>\n",
       "      <th>83448</th>\n",
       "      <td>k37n50pwpth14h44byk27lwnzjyfwl38gyf22as</td>\n",
       "      <td>dga</td>\n",
       "      <td>39</td>\n",
       "      <td>4.387465</td>\n",
       "      <td>151.419293</td>\n",
       "      <td>1.579784</td>\n",
       "      <td>149.839510</td>\n",
       "    </tr>\n",
       "    <tr>\n",
       "      <th>82589</th>\n",
       "      <td>cwgzo51gtcxe11m39pqltk47fwe41f22b68aydz</td>\n",
       "      <td>dga</td>\n",
       "      <td>39</td>\n",
       "      <td>4.618736</td>\n",
       "      <td>152.119527</td>\n",
       "      <td>2.397940</td>\n",
       "      <td>149.721587</td>\n",
       "    </tr>\n",
       "    <tr>\n",
       "      <th>82267</th>\n",
       "      <td>a67kwlxbsc59j36nwn30brb18lsh24m49o21bybw</td>\n",
       "      <td>dga</td>\n",
       "      <td>40</td>\n",
       "      <td>4.462815</td>\n",
       "      <td>155.008203</td>\n",
       "      <td>5.321549</td>\n",
       "      <td>149.686654</td>\n",
       "    </tr>\n",
       "    <tr>\n",
       "      <th>82264</th>\n",
       "      <td>a27nug33l18m59bxhql28nxmqh44a47n30oqctnt</td>\n",
       "      <td>dga</td>\n",
       "      <td>40</td>\n",
       "      <td>4.315312</td>\n",
       "      <td>154.035571</td>\n",
       "      <td>4.374015</td>\n",
       "      <td>149.661556</td>\n",
       "    </tr>\n",
       "    <tr>\n",
       "      <th>84068</th>\n",
       "      <td>p22k67gqdxo21l18c19jykyi45lwf32b18gvoxbs</td>\n",
       "      <td>dga</td>\n",
       "      <td>40</td>\n",
       "      <td>4.521928</td>\n",
       "      <td>152.999151</td>\n",
       "      <td>3.552668</td>\n",
       "      <td>149.446483</td>\n",
       "    </tr>\n",
       "    <tr>\n",
       "      <th>82755</th>\n",
       "      <td>e61axp22owi15mydqiym19euj16o51duf42m49lw</td>\n",
       "      <td>dga</td>\n",
       "      <td>40</td>\n",
       "      <td>4.243943</td>\n",
       "      <td>155.931722</td>\n",
       "      <td>6.916881</td>\n",
       "      <td>149.014841</td>\n",
       "    </tr>\n",
       "    <tr>\n",
       "      <th>83446</th>\n",
       "      <td>k27jritg33f12hrn30mrbxpvfziyp12i45a27hz</td>\n",
       "      <td>dga</td>\n",
       "      <td>39</td>\n",
       "      <td>4.406821</td>\n",
       "      <td>153.279872</td>\n",
       "      <td>4.371049</td>\n",
       "      <td>148.908823</td>\n",
       "    </tr>\n",
       "    <tr>\n",
       "      <th>82730</th>\n",
       "      <td>dxmyftb48a37exiuc29k47a67i55bse31d10oqdt</td>\n",
       "      <td>dga</td>\n",
       "      <td>40</td>\n",
       "      <td>4.584184</td>\n",
       "      <td>156.123789</td>\n",
       "      <td>7.276323</td>\n",
       "      <td>148.847466</td>\n",
       "    </tr>\n",
       "  </tbody>\n",
       "</table>\n",
       "</div>"
      ],
      "text/plain": [
       "                                            domain class  length   entropy  \\\n",
       "83640  lrl28i65l68j56f22a17o51p22l48cwjro21dug13eu   dga      43  4.175696   \n",
       "82971   fyo21o21h54a37o41gtfsf22d40g43oqnvhuc59i25   dga      42  4.252453   \n",
       "83544    kuh24p52d40n30n20lwp32mxo31g43lvlsgtdwh54   dga      41  4.198777   \n",
       "83099  h54k47gvd50p32dvm29iwi35eyf22d60mwb38j36h64   dga      43  4.332787   \n",
       "82611   d20eqh34b38mxj16fxcrm59crg63i65gva37p22n20   dga      42  4.564820   \n",
       "82757    e61mupwpyp62gtp62ksd60bse31i15c29e61b18at   dga      41  4.217819   \n",
       "83300    itm19frp62b28auo21esjzo31f42o11j66lqdsc69   dga      41  4.373051   \n",
       "82599   cyh14fqh14h54e41bukveqa37j66aql18i35g53i15   dga      42  4.204834   \n",
       "82359    aypvj36a27d30ezb48k17ixgqaxf12e31c39k17pu   dga      41  4.491460   \n",
       "83966    o61pxn40bwfwcqi25k37k37cxn40mqeqi15m49h14   dga      41  4.393899   \n",
       "83546    kvb48f42eznqj16p42fqnzn20b48dtb58l58f52ks   dga      41  4.161953   \n",
       "83393    jqn50gvn40jte41c59lrm69kvh54etc19k37byp22   dga      41  4.521829   \n",
       "83960    o31czgqprj36n30o31l18myg53fxb58pvi45k67js   dga      41  4.549761   \n",
       "83937      nwm29dsdtd30l28h14o21iud10g43prnvfvoyhs   dga      39  4.426177   \n",
       "83559    kxb18b58lxf52e31n30n60m39gqmxnqkva67c59jw   dga      41  4.454636   \n",
       "83395     jre51o21h44h34jrnqnym39ixnrp42juo41arn40   dga      40  4.096439   \n",
       "84149     pqm29f42mwdxg13nuh64o41nxb48jvc59mwj66ex   dga      40  4.465312   \n",
       "83663   lvmyg13b68e21iye61h64l68j16ewi15p42gydrh34   dga      42  4.166509   \n",
       "83683   m19b48o61hsewkyf12c49p62jyaxoxk37p32b28i65   dga      42  4.499228   \n",
       "82729     dxbwl48j46p22k47kzfuh14hxp52bya27pxa37ir   dga      40  4.365312   \n",
       "82955    fvj66gylqiyf42e31gyi65aro61a37c39b28n20dq   dga      41  4.521829   \n",
       "83822    n50b68d50j66jxdrfvnzpua27pzl28h54k37hth44   dga      41  4.454636   \n",
       "83448      k37n50pwpth14h44byk27lwnzjyfwl38gyf22as   dga      39  4.387465   \n",
       "82589      cwgzo51gtcxe11m39pqltk47fwe41f22b68aydz   dga      39  4.618736   \n",
       "82267     a67kwlxbsc59j36nwn30brb18lsh24m49o21bybw   dga      40  4.462815   \n",
       "82264     a27nug33l18m59bxhql28nxmqh44a47n30oqctnt   dga      40  4.315312   \n",
       "84068     p22k67gqdxo21l18c19jykyi45lwf32b18gvoxbs   dga      40  4.521928   \n",
       "82755     e61axp22owi15mydqiym19euj16o51duf42m49lw   dga      40  4.243943   \n",
       "83446      k27jritg33f12hrn30mrbxpvfziyp12i45a27hz   dga      39  4.406821   \n",
       "82730     dxmyftb48a37exiuc29k47a67i55bse31d10oqdt   dga      40  4.584184   \n",
       "\n",
       "       alexa_grams  word_grams        diff  \n",
       "83640   163.605861    1.612784  161.993077  \n",
       "82971   161.021455    2.071882  158.949573  \n",
       "83544   158.605675    0.954243  157.651433  \n",
       "83099   159.388414    3.295787  156.092627  \n",
       "82611   158.065761    2.643453  155.422308  \n",
       "82757   160.848948    5.686422  155.162526  \n",
       "83300   158.637189    3.625724  155.011465  \n",
       "82599   157.029594    2.688420  154.341174  \n",
       "82359   155.700720    1.414973  154.285747  \n",
       "83966   154.018117    0.000000  154.018117  \n",
       "83546   153.804849    0.000000  153.804849  \n",
       "83393   155.947516    3.591065  152.356452  \n",
       "83960   154.646439    2.482874  152.163565  \n",
       "83937   156.250502    4.448397  151.802105  \n",
       "83559   152.908824    1.397940  151.510884  \n",
       "83395   156.653609    5.452617  151.200992  \n",
       "84149   151.081331    0.000000  151.081331  \n",
       "83663   160.365487    9.403602  150.961885  \n",
       "83683   158.445944    7.741426  150.704519  \n",
       "82729   152.451111    1.982271  150.468840  \n",
       "82955   156.109306    6.102393  150.006913  \n",
       "83822   154.001157    4.002814  149.998343  \n",
       "83448   151.419293    1.579784  149.839510  \n",
       "82589   152.119527    2.397940  149.721587  \n",
       "82267   155.008203    5.321549  149.686654  \n",
       "82264   154.035571    4.374015  149.661556  \n",
       "84068   152.999151    3.552668  149.446483  \n",
       "82755   155.931722    6.916881  149.014841  \n",
       "83446   153.279872    4.371049  148.908823  \n",
       "82730   156.123789    7.276323  148.847466  "
      ]
     },
     "execution_count": 37,
     "metadata": {},
     "output_type": "execute_result"
    }
   ],
   "source": [
    "all_domains.sort_values(['diff'], ascending=False).head(30)\n",
    "#很好，差值得划分出了dga"
   ]
  },
  {
   "cell_type": "code",
   "execution_count": 38,
   "metadata": {
    "scrolled": false
   },
   "outputs": [],
   "source": [
    "###############绘图时间\n"
   ]
  },
  {
   "cell_type": "code",
   "execution_count": 39,
   "metadata": {
    "scrolled": false
   },
   "outputs": [
    {
     "data": {
      "image/png": "[encoded data removed]",
      "text/plain": [
       "<matplotlib.figure.Figure at 0x7f1a10aae410>"
      ]
     },
     "metadata": {},
     "output_type": "display_data"
    }
   ],
   "source": [
    "cond = all_domains['class'] == 'dga'\n",
    "dga = all_domains[cond]\n",
    "legit = all_domains[~cond]\n",
    "plt.scatter(legit['entropy'], legit['alexa_grams'],  s=120, c='#aaaaff', label='Alexa', alpha=.2)\n",
    "plt.scatter(dga['entropy'], dga['alexa_grams'], s=40, c='r', label='DGA', alpha=.3)\n",
    "plt.legend()\n",
    "plt.xlabel('Domain Entropy')\n",
    "plt.ylabel('Alexa Gram Matches')\n",
    "plt.show()"
   ]
  },
  {
   "cell_type": "code",
   "execution_count": 40,
   "metadata": {
    "scrolled": false
   },
   "outputs": [
    {
     "data": {
      "image/png": "[encoded data removed]",
      "text/plain": [
       "<matplotlib.figure.Figure at 0x7f19e18e9950>"
      ]
     },
     "metadata": {},
     "output_type": "display_data"
    }
   ],
   "source": [
    "cond = all_domains['class'] == 'dga'\n",
    "dga = all_domains[cond]\n",
    "legit = all_domains[~cond]\n",
    "plt.scatter(legit['length'], legit['alexa_grams'], s=120, c='#aaaaff', label='Alexa', alpha=.1)\n",
    "plt.scatter(dga['length'], dga['alexa_grams'], s=40, c='r', label='DGA', alpha=.3)\n",
    "plt.legend()\n",
    "plt.xlabel('Domain Length')\n",
    "plt.ylabel('Alexa NGram Matches')\n",
    "plt.show()"
   ]
  },
  {
   "cell_type": "code",
   "execution_count": 41,
   "metadata": {
    "scrolled": false
   },
   "outputs": [
    {
     "data": {
      "image/png": "[encoded data removed]",
      "text/plain": [
       "<matplotlib.figure.Figure at 0x7f19e18e97d0>"
      ]
     },
     "metadata": {},
     "output_type": "display_data"
    }
   ],
   "source": [
    "cond = all_domains['class'] == 'dga'\n",
    "dga = all_domains[cond]\n",
    "legit = all_domains[~cond]\n",
    "plt.scatter(legit['word_grams'], legit['alexa_grams'], s=120, c='#aaaaff', label='Alexa', alpha=.1)\n",
    "plt.scatter(dga['word_grams'], dga['alexa_grams'], s=40, c='r', label='DGA', alpha=.3)\n",
    "plt.legend()\n",
    "plt.xlabel('Domain Length')\n",
    "plt.ylabel('Alexa NGram Matches')\n",
    "plt.show()"
   ]
  },
  {
   "cell_type": "code",
   "execution_count": 42,
   "metadata": {
    "scrolled": false
   },
   "outputs": [
    {
     "data": {
      "text/html": [
       "<div>\n",
       "<style>\n",
       "    .dataframe thead tr:only-child th {\n",
       "        text-align: right;\n",
       "    }\n",
       "\n",
       "    .dataframe thead th {\n",
       "        text-align: left;\n",
       "    }\n",
       "\n",
       "    .dataframe tbody tr th {\n",
       "        vertical-align: top;\n",
       "    }\n",
       "</style>\n",
       "<table border=\"1\" class=\"dataframe\">\n",
       "  <thead>\n",
       "    <tr style=\"text-align: right;\">\n",
       "      <th></th>\n",
       "      <th>domain</th>\n",
       "      <th>class</th>\n",
       "      <th>length</th>\n",
       "      <th>entropy</th>\n",
       "      <th>alexa_grams</th>\n",
       "      <th>word_grams</th>\n",
       "      <th>diff</th>\n",
       "    </tr>\n",
       "  </thead>\n",
       "  <tbody>\n",
       "    <tr>\n",
       "      <th>13</th>\n",
       "      <td>jjwxc</td>\n",
       "      <td>legit</td>\n",
       "      <td>5</td>\n",
       "      <td>1.921928</td>\n",
       "      <td>19.509249</td>\n",
       "      <td>0.0</td>\n",
       "      <td>19.509249</td>\n",
       "    </tr>\n",
       "    <tr>\n",
       "      <th>20</th>\n",
       "      <td>gfy</td>\n",
       "      <td>legit</td>\n",
       "      <td>3</td>\n",
       "      <td>1.584963</td>\n",
       "      <td>12.521962</td>\n",
       "      <td>0.0</td>\n",
       "      <td>12.521962</td>\n",
       "    </tr>\n",
       "    <tr>\n",
       "      <th>102</th>\n",
       "      <td>vsnl</td>\n",
       "      <td>legit</td>\n",
       "      <td>4</td>\n",
       "      <td>2.000000</td>\n",
       "      <td>17.901695</td>\n",
       "      <td>0.0</td>\n",
       "      <td>17.901695</td>\n",
       "    </tr>\n",
       "    <tr>\n",
       "      <th>125</th>\n",
       "      <td>mt</td>\n",
       "      <td>legit</td>\n",
       "      <td>2</td>\n",
       "      <td>1.000000</td>\n",
       "      <td>9.082470</td>\n",
       "      <td>0.0</td>\n",
       "      <td>9.082470</td>\n",
       "    </tr>\n",
       "    <tr>\n",
       "      <th>131</th>\n",
       "      <td>90he</td>\n",
       "      <td>legit</td>\n",
       "      <td>4</td>\n",
       "      <td>2.000000</td>\n",
       "      <td>15.417200</td>\n",
       "      <td>0.0</td>\n",
       "      <td>15.417200</td>\n",
       "    </tr>\n",
       "  </tbody>\n",
       "</table>\n",
       "</div>"
      ],
      "text/plain": [
       "    domain  class  length   entropy  alexa_grams  word_grams       diff\n",
       "13   jjwxc  legit       5  1.921928    19.509249         0.0  19.509249\n",
       "20     gfy  legit       3  1.584963    12.521962         0.0  12.521962\n",
       "102   vsnl  legit       4  2.000000    17.901695         0.0  17.901695\n",
       "125     mt  legit       2  1.000000     9.082470         0.0   9.082470\n",
       "131   90he  legit       4  2.000000    15.417200         0.0  15.417200"
      ]
     },
     "execution_count": 42,
     "metadata": {},
     "output_type": "execute_result"
    }
   ],
   "source": [
    "all_domains[(all_domains['word_grams']==0)].head()\n",
    "###在word_gram ==0及完全匹配到dict的域名"
   ]
  },
  {
   "cell_type": "code",
   "execution_count": 43,
   "metadata": {
    "scrolled": false
   },
   "outputs": [],
   "source": [
    "#用我们现在的四个特征。不对，五个特征试试cm值是否可观\n",
    "X = all_domains.as_matrix(['length','entropy','alexa_grams','word_grams'])\n",
    "y = np.array(all_domains['class'].tolist())\n",
    "#new_legit = legit.sample(8000)\n",
    "#new_domains = pd.concat([new_legit,dga],ignore_index=True)\n",
    "#X = all_domains.as_matrix(['length','entropy','alexa_grams','word_grams'])\n",
    "#y = all_domains(new_domains['class'].tolist())\n",
    "#此处记录一个悲伤的故事，由于自己的蠢，把y = np.array(all_domains['class'].tolist())\n",
    "#写成了y = np.array(all_domains['domain'].tolist())\n",
    "#造成了一系列内存错误，损坏了一个系统，debug用了10多个小时的时间，加上重新配置环境重装系统怕是有二十几个小时\n",
    "#梦里都有他的影子\n",
    "#以此纪念，2017.10.20"
   ]
  },
  {
   "cell_type": "code",
   "execution_count": 44,
   "metadata": {
    "scrolled": false
   },
   "outputs": [
    {
     "data": {
      "text/plain": [
       "RandomForestClassifier(bootstrap=True, class_weight=None, criterion='gini',\n",
       "            max_depth=None, max_features='auto', max_leaf_nodes=None,\n",
       "            min_impurity_decrease=0.0, min_impurity_split=None,\n",
       "            min_samples_leaf=1, min_samples_split=2,\n",
       "            min_weight_fraction_leaf=0.0, n_estimators=20, n_jobs=1,\n",
       "            oob_score=False, random_state=None, verbose=0,\n",
       "            warm_start=False)"
      ]
     },
     "execution_count": 44,
     "metadata": {},
     "output_type": "execute_result"
    }
   ],
   "source": [
    "from sklearn.cross_validation import train_test_split\n",
    "X_train,X_test,y_train,y_test = train_test_split(X,y,test_size=0.2)\n",
    "#from sklearn import tree\n",
    "#clf1 = tree.DecisionTreeRegressor()\n",
    "\n",
    "clf.fit(X_train,y_train)"
   ]
  },
  {
   "cell_type": "code",
   "execution_count": 45,
   "metadata": {
    "scrolled": false
   },
   "outputs": [],
   "source": [
    "y_pred = clf.predict(X_test)"
   ]
  },
  {
   "cell_type": "code",
   "execution_count": 46,
   "metadata": {},
   "outputs": [
    {
     "data": {
      "text/plain": [
       "array([[16407,    63],\n",
       "       [   96,   362]])"
      ]
     },
     "execution_count": 46,
     "metadata": {},
     "output_type": "execute_result"
    }
   ],
   "source": [
    "from sklearn.metrics import confusion_matrix\n",
    "labels = ['legit','dga']\n",
    "cm = confusion_matrix(y_test,y_pred,labels)\n",
    "cm\n",
    "#这个混淆矩阵就让人满意多了"
   ]
  },
  {
   "cell_type": "code",
   "execution_count": 48,
   "metadata": {},
   "outputs": [
    {
     "name": "stdout",
     "output_type": "stream",
     "text": [
      "[ 0.98983932  0.98989839  0.9906658   0.98907072  0.98924731]\n"
     ]
    }
   ],
   "source": [
    "#再看下正确律\n",
    "from sklearn.cross_validation import cross_val_score\n",
    "scores = cross_val_score(clf,X,y,cv=5,n_jobs=4)\n",
    "print scores\n",
    "#一开始用长度和熵得出的 [ 0.9768431   0.97666588  0.97707804  0.97636911  0.9733546 ]\n",
    "#相比较而言提高了很多十分接近99.\n",
    "#比较满意"
   ]
  },
  {
   "cell_type": "code",
   "execution_count": 130,
   "metadata": {},
   "outputs": [],
   "source": [
    "#再写个测试函数\n",
    "def test_it(domain):\n",
    "    \n",
    "    _alexa_match = alexa_counts * alexa_vc.transform([domain]).T # 原理同上\n",
    "    _dict_match = dict_counts * dict_vc.transform([domain]).T\n",
    "    #_X = [len(domain), entropy(domain), _alexa_match[0], _dict_match[0]]\n",
    "    #print len(domain), entropy(domain), _alexa_match[0], _dict_match[0]\n",
    "    arr = np.array([len(domain), entropy(domain), _alexa_match[0], _dict_match[0]])\n",
    "    print '%s : %s' % (domain, clf.predict(arr.reshape(1,-1))[0])\n",
    "    #print type(arr)\n",
    "    #print arr\n",
    "    #print type(X[0])\n",
    "    #print X[0]\n",
    "    #print clf.predict(X[0].reshape(1,-1))\n",
    "    #print '%s : %s' % (domain, clf.predict(arr))"
   ]
  },
  {
   "cell_type": "code",
   "execution_count": 134,
   "metadata": {},
   "outputs": [
    {
     "name": "stdout",
     "output_type": "stream",
     "text": [
      "google : legit\n",
      "google : legit\n",
      "google88 : legit\n",
      "facebook : legit\n",
      "1cb8a5f36f : dga\n",
      "pterodactylfarts : legit\n",
      "ptes9dro-dwacty2lfa5rrts : dga\n",
      "beyonce : legit\n",
      "bey666on4ce : dga\n",
      "supersexy : legit\n",
      "yourmomissohotinthesummertime : legit\n",
      "35-sdf-09jq43r : dga\n",
      "sunxueliang : legit\n",
      "sunxueliang96 : legit\n"
     ]
    }
   ],
   "source": [
    "test_it('google')\n",
    "test_it('google')\n",
    "test_it('google88')\n",
    "test_it('facebook')\n",
    "test_it('1cb8a5f36f')\n",
    "test_it('pterodactylfarts')\n",
    "test_it('ptes9dro-dwacty2lfa5rrts')\n",
    "test_it('beyonce')\n",
    "test_it('bey666on4ce')\n",
    "test_it('supersexy')\n",
    "test_it('yourmomissohotinthesummertime')\n",
    "test_it('35-sdf-09jq43r')\n",
    "test_it('sunxueliang')\n",
    "test_it('sunxueliang96')"
   ]
  },
  {
   "cell_type": "code",
   "execution_count": null,
   "metadata": {},
   "outputs": [],
   "source": [
    "#附一篇文章回头再看S. Yadav, A. K. K. Reddy, A. L. N. Reddy, and S. Ranjan, “Detecting algorithmically generated malicious domain names,” presented at the the 10th annual conference, New York, New York, USA, 2010, pp. 48–61. [http://conferences.sigcomm.org/imc/2010/papers/p48.pdf"
   ]
  },
  {
   "cell_type": "code",
   "execution_count": 136,
   "metadata": {},
   "outputs": [
    {
     "data": {
      "text/plain": [
       "['train_model_1.0.m']"
      ]
     },
     "execution_count": 136,
     "metadata": {},
     "output_type": "execute_result"
    }
   ],
   "source": [
    "#存个模型回头写程序用\n",
    "from sklearn.externals import joblib\n",
    "import os\n",
    "os.chdir(\"model_save\")\n",
    "joblib.dump(clf,'train_model_1.0.m')"
   ]
  },
  {
   "cell_type": "code",
   "execution_count": null,
   "metadata": {},
   "outputs": [],
   "source": []
  }
 ],
 "metadata": {
  "kernelspec": {
   "display_name": "Python 2",
   "language": "python",
   "name": "python2"
  },
  "language_info": {
   "codemirror_mode": {
    "name": "ipython",
    "version": 2
   },
   "file_extension": ".py",
   "mimetype": "text/x-python",
   "name": "python",
   "nbconvert_exporter": "python",
   "pygments_lexer": "ipython2",
   "version": "2.7.12"
  }
 },
 "nbformat": 4,
 "nbformat_minor": 2
}
