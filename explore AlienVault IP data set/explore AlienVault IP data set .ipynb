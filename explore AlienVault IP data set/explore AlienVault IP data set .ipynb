{
 "cells": [
  {
   "cell_type": "code",
   "execution_count": 243,
   "metadata": {
    "scrolled": false
   },
   "outputs": [],
   "source": [
    "#探索AlienVault信誉集"
   ]
  },
  {
   "cell_type": "code",
   "execution_count": 244,
   "metadata": {},
   "outputs": [],
   "source": [
    "import os\n",
    "import sys\n",
    "import pandas as pd"
   ]
  },
  {
   "cell_type": "code",
   "execution_count": 245,
   "metadata": {},
   "outputs": [],
   "source": [
    "#准备下载信誉集\n",
    "import urllib\n",
    "import os.path\n",
    "\n",
    "avURL = \"http://datadrivensecurity.info/book/ch03/data/reputation.data\"\n",
    "avRep = \"reputation.data\"\n",
    "\n",
    "if not os.path.isfile(\"reputation.data\"):\n",
    "    urllib.urlretrieve(avURL,avRep)"
   ]
  },
  {
   "cell_type": "code",
   "execution_count": 246,
   "metadata": {},
   "outputs": [
    {
     "data": {
      "text/html": [
       "<div>\n",
       "<style scoped>\n",
       "    .dataframe tbody tr th:only-of-type {\n",
       "        vertical-align: middle;\n",
       "    }\n",
       "\n",
       "    .dataframe tbody tr th {\n",
       "        vertical-align: top;\n",
       "    }\n",
       "\n",
       "    .dataframe thead th {\n",
       "        text-align: right;\n",
       "    }\n",
       "</style>\n",
       "<table border=\"1\" class=\"dataframe\">\n",
       "  <thead>\n",
       "    <tr style=\"text-align: right;\">\n",
       "      <th></th>\n",
       "      <th>222.76.212.189</th>\n",
       "      <th>4</th>\n",
       "      <th>2</th>\n",
       "      <th>Scanning Host</th>\n",
       "      <th>CN</th>\n",
       "      <th>Xiamen</th>\n",
       "      <th>24.4797992706,118.08190155</th>\n",
       "      <th>11</th>\n",
       "    </tr>\n",
       "  </thead>\n",
       "  <tbody>\n",
       "    <tr>\n",
       "      <th>0</th>\n",
       "      <td>222.76.212.185</td>\n",
       "      <td>4</td>\n",
       "      <td>2</td>\n",
       "      <td>Scanning Host</td>\n",
       "      <td>CN</td>\n",
       "      <td>Xiamen</td>\n",
       "      <td>24.4797992706,118.08190155</td>\n",
       "      <td>11</td>\n",
       "    </tr>\n",
       "    <tr>\n",
       "      <th>1</th>\n",
       "      <td>222.76.212.186</td>\n",
       "      <td>4</td>\n",
       "      <td>2</td>\n",
       "      <td>Scanning Host</td>\n",
       "      <td>CN</td>\n",
       "      <td>Xiamen</td>\n",
       "      <td>24.4797992706,118.08190155</td>\n",
       "      <td>11</td>\n",
       "    </tr>\n",
       "    <tr>\n",
       "      <th>2</th>\n",
       "      <td>5.34.246.67</td>\n",
       "      <td>6</td>\n",
       "      <td>3</td>\n",
       "      <td>Spamming</td>\n",
       "      <td>US</td>\n",
       "      <td>NaN</td>\n",
       "      <td>38.0,-97.0</td>\n",
       "      <td>12</td>\n",
       "    </tr>\n",
       "    <tr>\n",
       "      <th>3</th>\n",
       "      <td>178.94.97.176</td>\n",
       "      <td>4</td>\n",
       "      <td>5</td>\n",
       "      <td>Scanning Host</td>\n",
       "      <td>UA</td>\n",
       "      <td>Merefa</td>\n",
       "      <td>49.8230018616,36.0507011414</td>\n",
       "      <td>11</td>\n",
       "    </tr>\n",
       "    <tr>\n",
       "      <th>4</th>\n",
       "      <td>66.2.49.232</td>\n",
       "      <td>4</td>\n",
       "      <td>2</td>\n",
       "      <td>Scanning Host</td>\n",
       "      <td>US</td>\n",
       "      <td>Union City</td>\n",
       "      <td>37.5962982178,-122.065696716</td>\n",
       "      <td>11</td>\n",
       "    </tr>\n",
       "    <tr>\n",
       "      <th>5</th>\n",
       "      <td>222.76.212.173</td>\n",
       "      <td>4</td>\n",
       "      <td>2</td>\n",
       "      <td>Scanning Host</td>\n",
       "      <td>CN</td>\n",
       "      <td>Xiamen</td>\n",
       "      <td>24.4797992706,118.08190155</td>\n",
       "      <td>11</td>\n",
       "    </tr>\n",
       "    <tr>\n",
       "      <th>6</th>\n",
       "      <td>222.76.212.172</td>\n",
       "      <td>4</td>\n",
       "      <td>2</td>\n",
       "      <td>Scanning Host</td>\n",
       "      <td>CN</td>\n",
       "      <td>Xiamen</td>\n",
       "      <td>24.4797992706,118.08190155</td>\n",
       "      <td>11</td>\n",
       "    </tr>\n",
       "    <tr>\n",
       "      <th>7</th>\n",
       "      <td>222.76.212.171</td>\n",
       "      <td>4</td>\n",
       "      <td>2</td>\n",
       "      <td>Scanning Host</td>\n",
       "      <td>CN</td>\n",
       "      <td>Xiamen</td>\n",
       "      <td>24.4797992706,118.08190155</td>\n",
       "      <td>11</td>\n",
       "    </tr>\n",
       "    <tr>\n",
       "      <th>8</th>\n",
       "      <td>174.142.46.19</td>\n",
       "      <td>6</td>\n",
       "      <td>3</td>\n",
       "      <td>Spamming</td>\n",
       "      <td>NaN</td>\n",
       "      <td>NaN</td>\n",
       "      <td>24.4797992706,118.08190155</td>\n",
       "      <td>12</td>\n",
       "    </tr>\n",
       "    <tr>\n",
       "      <th>9</th>\n",
       "      <td>66.2.49.244</td>\n",
       "      <td>4</td>\n",
       "      <td>2</td>\n",
       "      <td>Scanning Host</td>\n",
       "      <td>US</td>\n",
       "      <td>Union City</td>\n",
       "      <td>37.5962982178,-122.065696716</td>\n",
       "      <td>11</td>\n",
       "    </tr>\n",
       "  </tbody>\n",
       "</table>\n",
       "</div>"
      ],
      "text/plain": [
       "   222.76.212.189  4  2  Scanning Host   CN      Xiamen  \\\n",
       "0  222.76.212.185  4  2  Scanning Host   CN      Xiamen   \n",
       "1  222.76.212.186  4  2  Scanning Host   CN      Xiamen   \n",
       "2     5.34.246.67  6  3       Spamming   US         NaN   \n",
       "3   178.94.97.176  4  5  Scanning Host   UA      Merefa   \n",
       "4     66.2.49.232  4  2  Scanning Host   US  Union City   \n",
       "5  222.76.212.173  4  2  Scanning Host   CN      Xiamen   \n",
       "6  222.76.212.172  4  2  Scanning Host   CN      Xiamen   \n",
       "7  222.76.212.171  4  2  Scanning Host   CN      Xiamen   \n",
       "8   174.142.46.19  6  3       Spamming  NaN         NaN   \n",
       "9     66.2.49.244  4  2  Scanning Host   US  Union City   \n",
       "\n",
       "     24.4797992706,118.08190155  11  \n",
       "0    24.4797992706,118.08190155  11  \n",
       "1    24.4797992706,118.08190155  11  \n",
       "2                    38.0,-97.0  12  \n",
       "3   49.8230018616,36.0507011414  11  \n",
       "4  37.5962982178,-122.065696716  11  \n",
       "5    24.4797992706,118.08190155  11  \n",
       "6    24.4797992706,118.08190155  11  \n",
       "7    24.4797992706,118.08190155  11  \n",
       "8    24.4797992706,118.08190155  12  \n",
       "9  37.5962982178,-122.065696716  11  "
      ]
     },
     "execution_count": 246,
     "metadata": {},
     "output_type": "execute_result"
    }
   ],
   "source": [
    "av = pd.read_csv('reputation.data',sep= '#')\n",
    "av.head(10)"
   ]
  },
  {
   "cell_type": "code",
   "execution_count": 247,
   "metadata": {},
   "outputs": [
    {
     "name": "stdout",
     "output_type": "stream",
     "text": [
      "               IP  Reliability  Risk           Type Country      Locale  \\\n",
      "0  222.76.212.185            4     2  Scanning Host      CN      Xiamen   \n",
      "1  222.76.212.186            4     2  Scanning Host      CN      Xiamen   \n",
      "2     5.34.246.67            6     3       Spamming      US         NaN   \n",
      "3   178.94.97.176            4     5  Scanning Host      UA      Merefa   \n",
      "4     66.2.49.232            4     2  Scanning Host      US  Union City   \n",
      "5  222.76.212.173            4     2  Scanning Host      CN      Xiamen   \n",
      "6  222.76.212.172            4     2  Scanning Host      CN      Xiamen   \n",
      "7  222.76.212.171            4     2  Scanning Host      CN      Xiamen   \n",
      "8   174.142.46.19            6     3       Spamming     NaN         NaN   \n",
      "9     66.2.49.244            4     2  Scanning Host      US  Union City   \n",
      "\n",
      "                         Coords   x  \n",
      "0    24.4797992706,118.08190155  11  \n",
      "1    24.4797992706,118.08190155  11  \n",
      "2                    38.0,-97.0  12  \n",
      "3   49.8230018616,36.0507011414  11  \n",
      "4  37.5962982178,-122.065696716  11  \n",
      "5    24.4797992706,118.08190155  11  \n",
      "6    24.4797992706,118.08190155  11  \n",
      "7    24.4797992706,118.08190155  11  \n",
      "8    24.4797992706,118.08190155  12  \n",
      "9  37.5962982178,-122.065696716  11  \n",
      "################################################\n",
      ",IP,Reliability,Risk,Type,Country,Locale,Coords,x\n",
      "0,222.76.212.185,4,2,Scanning Host,CN,Xiamen,\"24.4797992706,118.08190155\",11\n",
      "1,222.76.212.186,4,2,Scanning Host,CN,Xiamen,\"24.4797992706,118.08190155\",11\n",
      "2,5.34.246.67,6,3,Spamming,US,,\"38.0,-97.0\",12\n",
      "3,178.94.97.176,4,5,Scanning Host,UA,Merefa,\"49.8230018616,36.0507011414\",11\n",
      "4,66.2.49.232,4,2,Scanning Host,US,Union City,\"37.5962982178,-122.065696716\",11\n",
      "5,222.76.212.173,4,2,Scanning Host,CN,Xiamen,\"24.4797992706,118.08190155\",11\n",
      "6,222.76.212.172,4,2,Scanning Host,CN,Xiamen,\"24.4797992706,118.08190155\",11\n",
      "7,222.76.212.171,4,2,Scanning Host,CN,Xiamen,\"24.4797992706,118.08190155\",11\n",
      "8,174.142.46.19,6,3,Spamming,,,\"24.4797992706,118.08190155\",12\n",
      "9,66.2.49.244,4,2,Scanning Host,US,Union City,\"37.5962982178,-122.065696716\",11\n",
      "################################################\n"
     ]
    },
    {
     "data": {
      "text/html": [
       "<table border=\"1\" class=\"dataframe\">\n",
       "  <thead>\n",
       "    <tr style=\"text-align: right;\">\n",
       "      <th></th>\n",
       "      <th>IP</th>\n",
       "      <th>Reliability</th>\n",
       "      <th>Risk</th>\n",
       "      <th>Type</th>\n",
       "      <th>Country</th>\n",
       "      <th>Locale</th>\n",
       "      <th>Coords</th>\n",
       "      <th>x</th>\n",
       "    </tr>\n",
       "  </thead>\n",
       "  <tbody>\n",
       "    <tr>\n",
       "      <th>0</th>\n",
       "      <td>222.76.212.185</td>\n",
       "      <td>4</td>\n",
       "      <td>2</td>\n",
       "      <td>Scanning Host</td>\n",
       "      <td>CN</td>\n",
       "      <td>Xiamen</td>\n",
       "      <td>24.4797992706,118.08190155</td>\n",
       "      <td>11</td>\n",
       "    </tr>\n",
       "    <tr>\n",
       "      <th>1</th>\n",
       "      <td>222.76.212.186</td>\n",
       "      <td>4</td>\n",
       "      <td>2</td>\n",
       "      <td>Scanning Host</td>\n",
       "      <td>CN</td>\n",
       "      <td>Xiamen</td>\n",
       "      <td>24.4797992706,118.08190155</td>\n",
       "      <td>11</td>\n",
       "    </tr>\n",
       "    <tr>\n",
       "      <th>2</th>\n",
       "      <td>5.34.246.67</td>\n",
       "      <td>6</td>\n",
       "      <td>3</td>\n",
       "      <td>Spamming</td>\n",
       "      <td>US</td>\n",
       "      <td>NaN</td>\n",
       "      <td>38.0,-97.0</td>\n",
       "      <td>12</td>\n",
       "    </tr>\n",
       "    <tr>\n",
       "      <th>3</th>\n",
       "      <td>178.94.97.176</td>\n",
       "      <td>4</td>\n",
       "      <td>5</td>\n",
       "      <td>Scanning Host</td>\n",
       "      <td>UA</td>\n",
       "      <td>Merefa</td>\n",
       "      <td>49.8230018616,36.0507011414</td>\n",
       "      <td>11</td>\n",
       "    </tr>\n",
       "    <tr>\n",
       "      <th>4</th>\n",
       "      <td>66.2.49.232</td>\n",
       "      <td>4</td>\n",
       "      <td>2</td>\n",
       "      <td>Scanning Host</td>\n",
       "      <td>US</td>\n",
       "      <td>Union City</td>\n",
       "      <td>37.5962982178,-122.065696716</td>\n",
       "      <td>11</td>\n",
       "    </tr>\n",
       "    <tr>\n",
       "      <th>5</th>\n",
       "      <td>222.76.212.173</td>\n",
       "      <td>4</td>\n",
       "      <td>2</td>\n",
       "      <td>Scanning Host</td>\n",
       "      <td>CN</td>\n",
       "      <td>Xiamen</td>\n",
       "      <td>24.4797992706,118.08190155</td>\n",
       "      <td>11</td>\n",
       "    </tr>\n",
       "    <tr>\n",
       "      <th>6</th>\n",
       "      <td>222.76.212.172</td>\n",
       "      <td>4</td>\n",
       "      <td>2</td>\n",
       "      <td>Scanning Host</td>\n",
       "      <td>CN</td>\n",
       "      <td>Xiamen</td>\n",
       "      <td>24.4797992706,118.08190155</td>\n",
       "      <td>11</td>\n",
       "    </tr>\n",
       "    <tr>\n",
       "      <th>7</th>\n",
       "      <td>222.76.212.171</td>\n",
       "      <td>4</td>\n",
       "      <td>2</td>\n",
       "      <td>Scanning Host</td>\n",
       "      <td>CN</td>\n",
       "      <td>Xiamen</td>\n",
       "      <td>24.4797992706,118.08190155</td>\n",
       "      <td>11</td>\n",
       "    </tr>\n",
       "    <tr>\n",
       "      <th>8</th>\n",
       "      <td>174.142.46.19</td>\n",
       "      <td>6</td>\n",
       "      <td>3</td>\n",
       "      <td>Spamming</td>\n",
       "      <td>NaN</td>\n",
       "      <td>NaN</td>\n",
       "      <td>24.4797992706,118.08190155</td>\n",
       "      <td>12</td>\n",
       "    </tr>\n",
       "    <tr>\n",
       "      <th>9</th>\n",
       "      <td>66.2.49.244</td>\n",
       "      <td>4</td>\n",
       "      <td>2</td>\n",
       "      <td>Scanning Host</td>\n",
       "      <td>US</td>\n",
       "      <td>Union City</td>\n",
       "      <td>37.5962982178,-122.065696716</td>\n",
       "      <td>11</td>\n",
       "    </tr>\n",
       "  </tbody>\n",
       "</table>"
      ],
      "text/plain": [
       "<IPython.core.display.HTML object>"
      ]
     },
     "execution_count": 247,
     "metadata": {},
     "output_type": "execute_result"
    }
   ],
   "source": [
    "av.columns=['IP','Reliability','Risk','Type','Country','Locale','Coords','x']\n",
    "print av.head(10)\n",
    "print \"################################################\"\n",
    "av.head(10).to_csv(sys.stdout)\n",
    "print \"################################################\"\n",
    "from IPython.display import HTML\n",
    "HTML(av.head(10).to_html())"
   ]
  },
  {
   "cell_type": "code",
   "execution_count": 248,
   "metadata": {},
   "outputs": [
    {
     "name": "stdout",
     "output_type": "stream",
     "text": [
      "count    258625.000000\n",
      "mean          2.798036\n",
      "std           1.130419\n",
      "min           1.000000\n",
      "25%           2.000000\n",
      "50%           2.000000\n",
      "75%           4.000000\n",
      "max          10.000000\n",
      "Name: Reliability, dtype: float64\n",
      "################################################\n",
      "count    258625.000000\n",
      "mean          2.221363\n",
      "std           0.531572\n",
      "min           1.000000\n",
      "25%           2.000000\n",
      "50%           2.000000\n",
      "75%           2.000000\n",
      "max           7.000000\n",
      "Name: Risk, dtype: float64\n",
      "################################################\n",
      "[4, 4, 6, 4, 4, ..., 4, 4, 3, 3, 3]\n",
      "Length: 258625\n",
      "Categories (10, int64): [1, 2, 3, 4, ..., 7, 8, 9, 10]\n",
      "################################################\n",
      "[2, 2, 3, 5, 2, ..., 2, 2, 2, 2, 3]\n",
      "Length: 258625\n",
      "Categories (7, int64): [1, 2, 3, 4, 5, 6, 7]\n"
     ]
    }
   ],
   "source": [
    "print av['Reliability'].describe()\n",
    "print \"################################################\"\n",
    "print av['Risk'].describe()\n",
    "print \"################################################\"\n",
    "print pd.Categorical(av['Reliability'])\n",
    "print \"################################################\"\n",
    "print pd.Categorical(av['Risk'])"
   ]
  },
  {
   "cell_type": "code",
   "execution_count": 249,
   "metadata": {},
   "outputs": [],
   "source": [
    "#分类统计并且查看\n",
    "def factor_col(col):\n",
    "    factor = pd.Categorical(col)\n",
    "    return pd.value_counts(col).reindex(factor.categories)\n",
    "#Categorical.from_array()已经停用\n",
    "#levels属性已经停用，该给categories"
   ]
  },
  {
   "cell_type": "code",
   "execution_count": 250,
   "metadata": {},
   "outputs": [
    {
     "name": "stdout",
     "output_type": "stream",
     "text": [
      "1       5612\n",
      "2     149117\n",
      "3      10892\n",
      "4      87039\n",
      "5          7\n",
      "6       4758\n",
      "7        297\n",
      "8         21\n",
      "9        686\n",
      "10       196\n",
      "Name: Reliability, dtype: int64\n",
      "################################################\n",
      "1        39\n",
      "2    213851\n",
      "3     33719\n",
      "4      9588\n",
      "5      1328\n",
      "6        90\n",
      "7        10\n",
      "Name: Risk, dtype: int64\n",
      "################################################\n",
      "APT;Malware Domain                          1\n",
      "C&C                                       610\n",
      "C&C;Malware Domain                         31\n",
      "C&C;Malware IP                             20\n",
      "C&C;Scanning Host                           7\n",
      "Malicious Host                           3770\n",
      "Malicious Host;Malware Domain               4\n",
      "Malicious Host;Malware IP                   2\n",
      "Malicious Host;Scanning Host              163\n",
      "Malware Domain                           9274\n",
      "Malware Domain;C&C                         25\n",
      "Malware Domain;Malicious Host               4\n",
      "Malware Domain;Malware IP                 173\n",
      "Malware Domain;Scanning Host               39\n",
      "Malware Domain;Spamming                     2\n",
      "Malware IP                               6470\n",
      "Malware IP;C&C                              2\n",
      "Malware IP;Malicious Host                   1\n",
      "Malware IP;Malware Domain                  57\n",
      "Malware IP;Scanning Host                    8\n",
      "Malware IP;Spamming                         7\n",
      "Malware distribution                        1\n",
      "Malware distribution;Malicious Host         1\n",
      "Malware distribution;Malware IP             4\n",
      "Scanning Host                          234179\n",
      "Scanning Host;C&C                           2\n",
      "Scanning Host;Malicious Host              215\n",
      "Scanning Host;Malware Domain               19\n",
      "Scanning Host;Malware IP                    7\n",
      "Scanning Host;Spamming                      7\n",
      "Spamming                                 3487\n",
      "Spamming;Malware Domain                     5\n",
      "Spamming;Malware IP                         4\n",
      "Spamming;Scanning Host                     24\n",
      "Name: Type, dtype: int64\n",
      "################################################\n",
      "A1      267\n",
      "A2        2\n",
      "AE     1827\n",
      "AL        4\n",
      "AM        6\n",
      "AN        3\n",
      "AO      256\n",
      "AR     3046\n",
      "AT       51\n",
      "AU      155\n",
      "AW      257\n",
      "AX        1\n",
      "AZ        7\n",
      "BA       15\n",
      "BD      535\n",
      "BE      834\n",
      "BF        1\n",
      "BG      871\n",
      "BH        1\n",
      "BJ        3\n",
      "BM        1\n",
      "BO       10\n",
      "BR     3811\n",
      "BS        2\n",
      "BY       35\n",
      "BZ        8\n",
      "CA     3051\n",
      "CD        1\n",
      "CH      333\n",
      "CI        3\n",
      "      ...  \n",
      "SC        1\n",
      "SD        3\n",
      "SE      130\n",
      "SG      868\n",
      "SI       20\n",
      "SK       31\n",
      "SM        3\n",
      "SN        1\n",
      "SZ        1\n",
      "TG        1\n",
      "TH     2572\n",
      "TJ        2\n",
      "TN       10\n",
      "TR    13958\n",
      "TT        2\n",
      "TW     4399\n",
      "TZ        1\n",
      "UA     3443\n",
      "UG        1\n",
      "US    50387\n",
      "UY      516\n",
      "VC        1\n",
      "VE     1589\n",
      "VG       59\n",
      "VI        1\n",
      "VN     1203\n",
      "YE        2\n",
      "ZA      573\n",
      "ZM        1\n",
      "ZW        3\n",
      "Name: Country, Length: 152, dtype: int64\n"
     ]
    }
   ],
   "source": [
    "print factor_col(av['Reliability'])\n",
    "print \"################################################\"\n",
    "print factor_col(av['Risk'])\n",
    "print \"################################################\"\n",
    "print factor_col(av['Type'])\n",
    "print \"################################################\"\n",
    "print factor_col(av['Country'])"
   ]
  },
  {
   "cell_type": "code",
   "execution_count": 251,
   "metadata": {},
   "outputs": [
    {
     "data": {
      "text/plain": [
       "CN    0.265179\n",
       "US    0.194826\n",
       "TR    0.053970\n",
       "DE    0.038484\n",
       "NL    0.030666\n",
       "RU    0.024537\n",
       "GB    0.024333\n",
       "IN    0.021189\n",
       "FR    0.021069\n",
       "TW    0.017009\n",
       "Name: Country, dtype: float64"
      ]
     },
     "execution_count": 251,
     "metadata": {},
     "output_type": "execute_result"
    },
    {
     "data": {
      "image/png": "[encoded data removed]",
      "text/plain": [
       "<Figure size 432x288 with 1 Axes>"
      ]
     },
     "metadata": {
      "needs_background": "light"
     },
     "output_type": "display_data"
    }
   ],
   "source": [
    "#绘图查看\n",
    "#counrty\n",
    "import matplotlib.pyplot as plt\n",
    "country_ct = pd.value_counts(av['Country'],sort=True)\n",
    "country_ct[0:20].plot(kind='bar',rot=0,title='Summary by Country')\n",
    "#计算比例\n",
    "top10 = country_ct[0:10]\n",
    "top10.astype(float)/len(av['Country'])"
   ]
  },
  {
   "cell_type": "code",
   "execution_count": 252,
   "metadata": {},
   "outputs": [
    {
     "data": {
      "text/plain": [
       "<matplotlib.axes._subplots.AxesSubplot at 0x7f667f879e10>"
      ]
     },
     "execution_count": 252,
     "metadata": {},
     "output_type": "execute_result"
    },
    {
     "data": {
      "image/png": "[encoded data removed]",
      "text/plain": [
       "<Figure size 432x288 with 1 Axes>"
      ]
     },
     "metadata": {
      "needs_background": "light"
     },
     "output_type": "display_data"
    }
   ],
   "source": [
    "#Reliability\n",
    "factor_col(av['Reliability']).plot(kind='bar',rot=0,title='Summary by Reliability')"
   ]
  },
  {
   "cell_type": "code",
   "execution_count": 253,
   "metadata": {},
   "outputs": [
    {
     "data": {
      "text/plain": [
       "<matplotlib.axes._subplots.AxesSubplot at 0x7f667efacc90>"
      ]
     },
     "execution_count": 253,
     "metadata": {},
     "output_type": "execute_result"
    },
    {
     "data": {
      "image/png": "[encoded data removed]",
      "text/plain": [
       "<Figure size 432x288 with 1 Axes>"
      ]
     },
     "metadata": {
      "needs_background": "light"
     },
     "output_type": "display_data"
    }
   ],
   "source": [
    "#Risk\n",
    "factor_col(av['Risk']).plot(kind='bar',rot=0,title = 'Summary by Risk')"
   ]
  },
  {
   "cell_type": "code",
   "execution_count": 254,
   "metadata": {},
   "outputs": [
    {
     "data": {
      "text/html": [
       "<div>\n",
       "<style scoped>\n",
       "    .dataframe tbody tr th:only-of-type {\n",
       "        vertical-align: middle;\n",
       "    }\n",
       "\n",
       "    .dataframe tbody tr th {\n",
       "        vertical-align: top;\n",
       "    }\n",
       "\n",
       "    .dataframe thead th {\n",
       "        text-align: right;\n",
       "    }\n",
       "</style>\n",
       "<table border=\"1\" class=\"dataframe\">\n",
       "  <thead>\n",
       "    <tr style=\"text-align: right;\">\n",
       "      <th>Reliability</th>\n",
       "      <th>1</th>\n",
       "      <th>2</th>\n",
       "      <th>3</th>\n",
       "      <th>4</th>\n",
       "      <th>5</th>\n",
       "      <th>6</th>\n",
       "      <th>7</th>\n",
       "      <th>8</th>\n",
       "      <th>9</th>\n",
       "      <th>10</th>\n",
       "    </tr>\n",
       "    <tr>\n",
       "      <th>Risk</th>\n",
       "      <th></th>\n",
       "      <th></th>\n",
       "      <th></th>\n",
       "      <th></th>\n",
       "      <th></th>\n",
       "      <th></th>\n",
       "      <th></th>\n",
       "      <th></th>\n",
       "      <th></th>\n",
       "      <th></th>\n",
       "    </tr>\n",
       "  </thead>\n",
       "  <tbody>\n",
       "    <tr>\n",
       "      <th>1</th>\n",
       "      <td>0</td>\n",
       "      <td>0</td>\n",
       "      <td>16</td>\n",
       "      <td>7</td>\n",
       "      <td>0</td>\n",
       "      <td>8</td>\n",
       "      <td>8</td>\n",
       "      <td>0</td>\n",
       "      <td>0</td>\n",
       "      <td>0</td>\n",
       "    </tr>\n",
       "    <tr>\n",
       "      <th>2</th>\n",
       "      <td>804</td>\n",
       "      <td>149114</td>\n",
       "      <td>3670</td>\n",
       "      <td>57652</td>\n",
       "      <td>4</td>\n",
       "      <td>2084</td>\n",
       "      <td>85</td>\n",
       "      <td>11</td>\n",
       "      <td>345</td>\n",
       "      <td>82</td>\n",
       "    </tr>\n",
       "    <tr>\n",
       "      <th>3</th>\n",
       "      <td>2225</td>\n",
       "      <td>3</td>\n",
       "      <td>6668</td>\n",
       "      <td>22168</td>\n",
       "      <td>2</td>\n",
       "      <td>2151</td>\n",
       "      <td>156</td>\n",
       "      <td>7</td>\n",
       "      <td>260</td>\n",
       "      <td>79</td>\n",
       "    </tr>\n",
       "    <tr>\n",
       "      <th>4</th>\n",
       "      <td>2129</td>\n",
       "      <td>0</td>\n",
       "      <td>481</td>\n",
       "      <td>6447</td>\n",
       "      <td>0</td>\n",
       "      <td>404</td>\n",
       "      <td>43</td>\n",
       "      <td>2</td>\n",
       "      <td>58</td>\n",
       "      <td>24</td>\n",
       "    </tr>\n",
       "    <tr>\n",
       "      <th>5</th>\n",
       "      <td>432</td>\n",
       "      <td>0</td>\n",
       "      <td>55</td>\n",
       "      <td>700</td>\n",
       "      <td>1</td>\n",
       "      <td>103</td>\n",
       "      <td>5</td>\n",
       "      <td>1</td>\n",
       "      <td>20</td>\n",
       "      <td>11</td>\n",
       "    </tr>\n",
       "    <tr>\n",
       "      <th>6</th>\n",
       "      <td>19</td>\n",
       "      <td>0</td>\n",
       "      <td>2</td>\n",
       "      <td>60</td>\n",
       "      <td>0</td>\n",
       "      <td>8</td>\n",
       "      <td>0</td>\n",
       "      <td>0</td>\n",
       "      <td>1</td>\n",
       "      <td>0</td>\n",
       "    </tr>\n",
       "    <tr>\n",
       "      <th>7</th>\n",
       "      <td>3</td>\n",
       "      <td>0</td>\n",
       "      <td>0</td>\n",
       "      <td>5</td>\n",
       "      <td>0</td>\n",
       "      <td>0</td>\n",
       "      <td>0</td>\n",
       "      <td>0</td>\n",
       "      <td>2</td>\n",
       "      <td>0</td>\n",
       "    </tr>\n",
       "  </tbody>\n",
       "</table>\n",
       "</div>"
      ],
      "text/plain": [
       "Reliability    1       2     3      4   5     6    7   8    9   10\n",
       "Risk                                                              \n",
       "1               0       0    16      7   0     8    8   0    0   0\n",
       "2             804  149114  3670  57652   4  2084   85  11  345  82\n",
       "3            2225       3  6668  22168   2  2151  156   7  260  79\n",
       "4            2129       0   481   6447   0   404   43   2   58  24\n",
       "5             432       0    55    700   1   103    5   1   20  11\n",
       "6              19       0     2     60   0     8    0   0    1   0\n",
       "7               3       0     0      5   0     0    0   0    2   0"
      ]
     },
     "execution_count": 254,
     "metadata": {},
     "output_type": "execute_result"
    }
   ],
   "source": [
    "#通过热力图寻找Risk和Reliability之间的关系\n",
    "from matplotlib import cm\n",
    "from numpy import arange\n",
    "pd.crosstab(av['Risk'],av['Reliability'])"
   ]
  },
  {
   "cell_type": "code",
   "execution_count": 255,
   "metadata": {},
   "outputs": [
    {
     "data": {
      "text/plain": [
       "<matplotlib.colorbar.Colorbar at 0x7f667de548d0>"
      ]
     },
     "execution_count": 255,
     "metadata": {},
     "output_type": "execute_result"
    },
    {
     "data": {
      "image/png": "[encoded data removed]",
      "text/plain": [
       "<Figure size 432x288 with 2 Axes>"
      ]
     },
     "metadata": {
      "needs_background": "light"
     },
     "output_type": "display_data"
    }
   ],
   "source": [
    "xtab = pd.crosstab(av['Reliability'],av['Risk'])\n",
    "plt.pcolor(xtab,cmap=cm.Greens)\n",
    "plt.title('Risk~Reliability')\n",
    "plt.colorbar()"
   ]
  },
  {
   "cell_type": "code",
   "execution_count": 256,
   "metadata": {},
   "outputs": [
    {
     "data": {
      "text/plain": [
       "False    257791\n",
       "True        834\n",
       "Name: newtype, dtype: int64"
      ]
     },
     "execution_count": 256,
     "metadata": {},
     "output_type": "execute_result"
    }
   ],
   "source": [
    "#现在查看Reliability与Risk与Type的关系。\n",
    "av['newtype'] = av['Type']\n",
    "pd.value_counts(av['newtype'].str.contains(';'))"
   ]
  },
  {
   "cell_type": "code",
   "execution_count": 257,
   "metadata": {},
   "outputs": [
    {
     "data": {
      "text/html": [
       "<div>\n",
       "<style scoped>\n",
       "    .dataframe tbody tr th:only-of-type {\n",
       "        vertical-align: middle;\n",
       "    }\n",
       "\n",
       "    .dataframe tbody tr th {\n",
       "        vertical-align: top;\n",
       "    }\n",
       "\n",
       "    .dataframe thead th {\n",
       "        text-align: right;\n",
       "    }\n",
       "</style>\n",
       "<table border=\"1\" class=\"dataframe\">\n",
       "  <thead>\n",
       "    <tr style=\"text-align: right;\">\n",
       "      <th></th>\n",
       "      <th>IP</th>\n",
       "      <th>Reliability</th>\n",
       "      <th>Risk</th>\n",
       "      <th>Type</th>\n",
       "      <th>Country</th>\n",
       "      <th>Locale</th>\n",
       "      <th>Coords</th>\n",
       "      <th>x</th>\n",
       "      <th>newtype</th>\n",
       "    </tr>\n",
       "  </thead>\n",
       "  <tbody>\n",
       "    <tr>\n",
       "      <th>95015</th>\n",
       "      <td>81.27.245.82</td>\n",
       "      <td>4</td>\n",
       "      <td>2</td>\n",
       "      <td>Scanning Host</td>\n",
       "      <td>RU</td>\n",
       "      <td>Tver</td>\n",
       "      <td>56.8605003357,35.8759994507</td>\n",
       "      <td>11</td>\n",
       "      <td>Scanning Host</td>\n",
       "    </tr>\n",
       "    <tr>\n",
       "      <th>32884</th>\n",
       "      <td>78.225.83.44</td>\n",
       "      <td>2</td>\n",
       "      <td>2</td>\n",
       "      <td>Scanning Host</td>\n",
       "      <td>FR</td>\n",
       "      <td>Argenteuil</td>\n",
       "      <td>48.9393997192,2.23670005798</td>\n",
       "      <td>11</td>\n",
       "      <td>Scanning Host</td>\n",
       "    </tr>\n",
       "    <tr>\n",
       "      <th>168182</th>\n",
       "      <td>54.218.167.173</td>\n",
       "      <td>2</td>\n",
       "      <td>2</td>\n",
       "      <td>Scanning Host</td>\n",
       "      <td>US</td>\n",
       "      <td>Woodbridge</td>\n",
       "      <td>40.5525016785,-74.2914962769</td>\n",
       "      <td>11</td>\n",
       "      <td>Scanning Host</td>\n",
       "    </tr>\n",
       "    <tr>\n",
       "      <th>150030</th>\n",
       "      <td>198.50.154.176</td>\n",
       "      <td>6</td>\n",
       "      <td>3</td>\n",
       "      <td>Malware IP</td>\n",
       "      <td>US</td>\n",
       "      <td>Newark</td>\n",
       "      <td>40.7355003357,-74.1741027832</td>\n",
       "      <td>7</td>\n",
       "      <td>Malware IP</td>\n",
       "    </tr>\n",
       "    <tr>\n",
       "      <th>174959</th>\n",
       "      <td>188.165.164.160</td>\n",
       "      <td>2</td>\n",
       "      <td>2</td>\n",
       "      <td>Scanning Host</td>\n",
       "      <td>FR</td>\n",
       "      <td>NaN</td>\n",
       "      <td>46.0,2.0</td>\n",
       "      <td>11</td>\n",
       "      <td>Scanning Host</td>\n",
       "    </tr>\n",
       "    <tr>\n",
       "      <th>74374</th>\n",
       "      <td>129.177.205.145</td>\n",
       "      <td>4</td>\n",
       "      <td>2</td>\n",
       "      <td>Scanning Host</td>\n",
       "      <td>NO</td>\n",
       "      <td>Bergen</td>\n",
       "      <td>60.3911018372,5.32469987869</td>\n",
       "      <td>11</td>\n",
       "      <td>Scanning Host</td>\n",
       "    </tr>\n",
       "    <tr>\n",
       "      <th>247468</th>\n",
       "      <td>182.18.162.59</td>\n",
       "      <td>4</td>\n",
       "      <td>3</td>\n",
       "      <td>Malicious Host</td>\n",
       "      <td>IN</td>\n",
       "      <td>NaN</td>\n",
       "      <td>20.0,77.0</td>\n",
       "      <td>3</td>\n",
       "      <td>Malicious Host</td>\n",
       "    </tr>\n",
       "    <tr>\n",
       "      <th>41692</th>\n",
       "      <td>142.0.37.184</td>\n",
       "      <td>2</td>\n",
       "      <td>2</td>\n",
       "      <td>Scanning Host</td>\n",
       "      <td>US</td>\n",
       "      <td>Clarks Summit</td>\n",
       "      <td>41.448600769,-75.7279968262</td>\n",
       "      <td>11</td>\n",
       "      <td>Scanning Host</td>\n",
       "    </tr>\n",
       "    <tr>\n",
       "      <th>6779</th>\n",
       "      <td>190.6.141.55</td>\n",
       "      <td>4</td>\n",
       "      <td>4</td>\n",
       "      <td>Scanning Host</td>\n",
       "      <td>DO</td>\n",
       "      <td>Santo Domingo</td>\n",
       "      <td>18.4666996002,-69.9000015259</td>\n",
       "      <td>11</td>\n",
       "      <td>Scanning Host</td>\n",
       "    </tr>\n",
       "    <tr>\n",
       "      <th>184841</th>\n",
       "      <td>174.122.153.39</td>\n",
       "      <td>4</td>\n",
       "      <td>2</td>\n",
       "      <td>Scanning Host</td>\n",
       "      <td>US</td>\n",
       "      <td>Houston</td>\n",
       "      <td>29.7523002625,-95.3669967651</td>\n",
       "      <td>11</td>\n",
       "      <td>Scanning Host</td>\n",
       "    </tr>\n",
       "  </tbody>\n",
       "</table>\n",
       "</div>"
      ],
      "text/plain": [
       "                     IP Reliability Risk            Type Country  \\\n",
       "95015      81.27.245.82           4    2   Scanning Host      RU   \n",
       "32884      78.225.83.44           2    2   Scanning Host      FR   \n",
       "168182   54.218.167.173           2    2   Scanning Host      US   \n",
       "150030   198.50.154.176           6    3      Malware IP      US   \n",
       "174959  188.165.164.160           2    2   Scanning Host      FR   \n",
       "74374   129.177.205.145           4    2   Scanning Host      NO   \n",
       "247468    182.18.162.59           4    3  Malicious Host      IN   \n",
       "41692      142.0.37.184           2    2   Scanning Host      US   \n",
       "6779       190.6.141.55           4    4   Scanning Host      DO   \n",
       "184841   174.122.153.39           4    2   Scanning Host      US   \n",
       "\n",
       "               Locale                        Coords   x         newtype  \n",
       "95015            Tver   56.8605003357,35.8759994507  11   Scanning Host  \n",
       "32884      Argenteuil   48.9393997192,2.23670005798  11   Scanning Host  \n",
       "168182     Woodbridge  40.5525016785,-74.2914962769  11   Scanning Host  \n",
       "150030         Newark  40.7355003357,-74.1741027832   7      Malware IP  \n",
       "174959            NaN                      46.0,2.0  11   Scanning Host  \n",
       "74374          Bergen   60.3911018372,5.32469987869  11   Scanning Host  \n",
       "247468            NaN                     20.0,77.0   3  Malicious Host  \n",
       "41692   Clarks Summit   41.448600769,-75.7279968262  11   Scanning Host  \n",
       "6779    Santo Domingo  18.4666996002,-69.9000015259  11   Scanning Host  \n",
       "184841        Houston  29.7523002625,-95.3669967651  11   Scanning Host  "
      ]
     },
     "execution_count": 257,
     "metadata": {},
     "output_type": "execute_result"
    }
   ],
   "source": [
    "#有834个记录的Type有多个量，即同时存在多种攻击行为\n",
    "av[av['newtype'].str.contains(';')] = \"Multiples\"\n",
    "av.sample(10)"
   ]
  },
  {
   "cell_type": "code",
   "execution_count": 258,
   "metadata": {},
   "outputs": [
    {
     "name": "stdout",
     "output_type": "stream",
     "text": [
      "rel                     1                               2      3                          4                                  5        6                        7                  8             9                     10            Multiples\n",
      "ris                     2     3     4    5   6  7       2  3   1     2     3    4   5  6  1      2      3     4    5   6  7  2  3  5  1    2    3    4   5  6  1   2    3   4  5  2  3  4  5    2    3   4   5  6  7   2   3   4  5 Multiples\n",
      "typ                                                                                                                                                                                                                                          \n",
      "C&C                     0     0     1    2   1  0       0  0   0     0     0  313  22  2  0      0      0    15   22   4  1  0  0  1  0    0    0   98  60  5  0   0    0   7  3  0  0  1  1    0    0  19  16  1  1   0   1   8  5         0\n",
      "Malicious Host          0     6    51   41   8  1       0  0   1   206  2250    7   2  0  0    152    512   336  138  30  2  1  0  0  1    3    8    8   4  0  0   0    0   0  0  0  0  0  0    0    2   0   0  0  0   0   0   0  0         0\n",
      "Malware Domain         12     1     0    0   0  0    7309  0   2   246    55    2   1  0  0     60     18     2    0   0  0  2  1  0  2  921  273   26   2  0  3  72   13   0  0  7  1  1  0  135   38   6   0  0  0  54   7   2  0         0\n",
      "Malware IP              0    23    11   15  10  2       0  3  12   415  4091   71   6  0  1    132    205   122   45  13  2  0  1  0  3   10  793  133  11  3  5   0  140  35  0  0  6  0  0    1   74  10   0  0  0   0  53  11  2         0\n",
      "Malware distribution    0     0     0    0   0  0       0  0   0     0     1    0   0  0  0      0      0     0    0   0  0  0  0  0  0    0    0    0   0  0  0   0    0   0  0  0  0  0  0    0    0   0   0  0  0   0   0   0  0         0\n",
      "Multiples               0     0     0    0   0  0       0  0   0     0     0    0   0  0  0      0      0     0    0   0  0  0  0  0  0    0    0    0   0  0  0   0    0   0  0  0  0  0  0    0    0   0   0  0  0   0   0   0  0       834\n",
      "Scanning Host         790  2189  2056  366   0  0  141543  0   1  2685   159   35  13  0  6  55653  21325  5931  488  13  0  1  0  0  2  611  107   23   1  0  0   0    0   0  0  2  0  0  0  150   22   7   0  0  0   0   0   0  0         0\n",
      "Spamming                1     2     9    7   0  0       1  0   0    22     9   17   6  0  0   1536     40    21    4   0  0  0  0  0  0  512  931  106  17  0  0   4    1   0  2  1  0  0  0   52  120  15   3  0  0  24  17   3  4         0\n"
     ]
    }
   ],
   "source": [
    "typ = av['newtype']\n",
    "rel = av['Reliability']\n",
    "ris = av['Risk']\n",
    "xtab = pd.crosstab(typ,[rel,ris],rownames=['typ'],colnames=['rel','ris'])\n",
    "print xtab.to_string()\n"
   ]
  },
  {
   "cell_type": "code",
   "execution_count": 259,
   "metadata": {},
   "outputs": [
    {
     "data": {
      "text/plain": [
       "<matplotlib.axes._subplots.AxesSubplot at 0x7f667de0b810>"
      ]
     },
     "execution_count": 259,
     "metadata": {},
     "output_type": "execute_result"
    },
    {
     "data": {
      "image/png": "[encoded data removed]",
      "text/plain": [
       "<Figure size 2160x720 with 1 Axes>"
      ]
     },
     "metadata": {
      "needs_background": "light"
     },
     "output_type": "display_data"
    }
   ],
   "source": [
    "xtab.plot(rot=0,kind='barh',legend='False',title=\"Risk~Relibility | Type\",figsize=(30,10))"
   ]
  },
  {
   "cell_type": "code",
   "execution_count": 272,
   "metadata": {
    "scrolled": false
   },
   "outputs": [
    {
     "name": "stdout",
     "output_type": "stream",
     "text": [
      "Risk                   1       2      3     4    5   6  7  Multiples\n",
      "newtype                                                             \n",
      "C&C                    0       0      1   462  132  13  2          0\n",
      "Malicious Host         2     362   2778   402  185  38  3          0\n",
      "Malware Domain         7    8818    407    39    3   0  0          0\n",
      "Malware IP            21     558   5389   393   79  26  4          0\n",
      "Malware distribution   0       0      1     0    0   0  0          0\n",
      "Multiples              0       0      0     0    0   0  0        834\n",
      "Scanning Host          9  201435  23802  8052  868  13  0          0\n",
      "Spamming               0    2153   1120   171   43   0  0          0\n"
     ]
    }
   ],
   "source": [
    "#可以看到由于大量数据集中在 scanning host 这个类型中。查看其与Risk的关系，若不高可删除。\n",
    "xtab = pd.crosstab(av['newtype'],av['Risk'])\n",
    "print xtab"
   ]
  },
  {
   "cell_type": "code",
   "execution_count": 273,
   "metadata": {},
   "outputs": [
    {
     "name": "stdout",
     "output_type": "stream",
     "text": [
      "Risk                   1       2      3     4    5   6  7\n",
      "newtype                                                  \n",
      "C&C                    0       0      1   462  132  13  2\n",
      "Malicious Host         2     362   2778   402  185  38  3\n",
      "Malware Domain         7    8818    407    39    3   0  0\n",
      "Malware IP            21     558   5389   393   79  26  4\n",
      "Malware distribution   0       0      1     0    0   0  0\n",
      "Multiples              0       0      0     0    0   0  0\n",
      "Scanning Host          9  201435  23802  8052  868  13  0\n",
      "Spamming               0    2153   1120   171   43   0  0\n"
     ]
    }
   ],
   "source": [
    "#由于Multiples类的行为具有多个值的Risk，并总数不多，此处暂时删除\n",
    "del xtab['Multiples']\n",
    "print xtab"
   ]
  },
  {
   "cell_type": "code",
   "execution_count": 276,
   "metadata": {},
   "outputs": [
    {
     "data": {
      "text/plain": [
       "<matplotlib.axes._subplots.AxesSubplot at 0x7f667cdd8e90>"
      ]
     },
     "execution_count": 276,
     "metadata": {},
     "output_type": "execute_result"
    },
    {
     "data": {
      "image/png": "[encoded data removed]",
      "text/plain": [
       "<Figure size 1080x720 with 1 Axes>"
      ]
     },
     "metadata": {
      "needs_background": "light"
     },
     "output_type": "display_data"
    }
   ],
   "source": [
    "xtab.plot(kind='bar',rot=0,figsize=(15,10))"
   ]
  },
  {
   "cell_type": "code",
   "execution_count": 289,
   "metadata": {},
   "outputs": [
    {
     "data": {
      "text/plain": [
       "<matplotlib.axes._subplots.AxesSubplot at 0x7f667b6ef5d0>"
      ]
     },
     "execution_count": 289,
     "metadata": {},
     "output_type": "execute_result"
    },
    {
     "data": {
      "image/png": "[encoded data removed]",
      "text/plain": [
       "<Figure size 1080x1080 with 1 Axes>"
      ]
     },
     "metadata": {
      "needs_background": "light"
     },
     "output_type": "display_data"
    }
   ],
   "source": [
    "#对比scanning hosts与其他Type可以看到其数量过大，且绝大多数为低等级的Risk（2），因此应当单独分析\n",
    "#回到Risk~Relibility | Type图中\n",
    "rrt_df = av[av['newtype'] != \"Scanning Host\"]\n",
    "typ = rrt_df['newtype']\n",
    "rel = rrt_df['Reliability']\n",
    "ris = rrt_df['Risk']\n",
    "xtab = pd.crosstab(typ,[rel,ris],rownames=['typ'],colnames=['rel','ris'])\n",
    "\n",
    "xtab.plot(rot=0,kind='barh',legend='False',title=\"Risk~Relibility | Type\",figsize=(15,15))"
   ]
  },
  {
   "cell_type": "code",
   "execution_count": null,
   "metadata": {},
   "outputs": [],
   "source": []
  },
  {
   "cell_type": "code",
   "execution_count": null,
   "metadata": {},
   "outputs": [],
   "source": []
  },
  {
   "cell_type": "code",
   "execution_count": null,
   "metadata": {},
   "outputs": [],
   "source": []
  },
  {
   "cell_type": "code",
   "execution_count": null,
   "metadata": {},
   "outputs": [],
   "source": []
  },
  {
   "cell_type": "code",
   "execution_count": null,
   "metadata": {},
   "outputs": [],
   "source": []
  },
  {
   "cell_type": "code",
   "execution_count": null,
   "metadata": {},
   "outputs": [],
   "source": []
  },
  {
   "cell_type": "code",
   "execution_count": null,
   "metadata": {},
   "outputs": [],
   "source": []
  },
  {
   "cell_type": "code",
   "execution_count": null,
   "metadata": {},
   "outputs": [],
   "source": []
  },
  {
   "cell_type": "code",
   "execution_count": null,
   "metadata": {},
   "outputs": [],
   "source": []
  },
  {
   "cell_type": "code",
   "execution_count": null,
   "metadata": {},
   "outputs": [],
   "source": []
  },
  {
   "cell_type": "code",
   "execution_count": null,
   "metadata": {},
   "outputs": [],
   "source": []
  },
  {
   "cell_type": "code",
   "execution_count": null,
   "metadata": {},
   "outputs": [],
   "source": []
  },
  {
   "cell_type": "code",
   "execution_count": null,
   "metadata": {},
   "outputs": [],
   "source": []
  },
  {
   "cell_type": "code",
   "execution_count": null,
   "metadata": {},
   "outputs": [],
   "source": []
  },
  {
   "cell_type": "code",
   "execution_count": null,
   "metadata": {},
   "outputs": [],
   "source": []
  },
  {
   "cell_type": "code",
   "execution_count": null,
   "metadata": {},
   "outputs": [],
   "source": []
  },
  {
   "cell_type": "code",
   "execution_count": null,
   "metadata": {},
   "outputs": [],
   "source": []
  },
  {
   "cell_type": "code",
   "execution_count": null,
   "metadata": {},
   "outputs": [],
   "source": []
  },
  {
   "cell_type": "code",
   "execution_count": null,
   "metadata": {},
   "outputs": [],
   "source": []
  },
  {
   "cell_type": "code",
   "execution_count": null,
   "metadata": {},
   "outputs": [],
   "source": []
  },
  {
   "cell_type": "code",
   "execution_count": null,
   "metadata": {},
   "outputs": [],
   "source": []
  },
  {
   "cell_type": "code",
   "execution_count": null,
   "metadata": {},
   "outputs": [],
   "source": []
  },
  {
   "cell_type": "code",
   "execution_count": null,
   "metadata": {},
   "outputs": [],
   "source": []
  },
  {
   "cell_type": "code",
   "execution_count": null,
   "metadata": {},
   "outputs": [],
   "source": []
  },
  {
   "cell_type": "code",
   "execution_count": null,
   "metadata": {},
   "outputs": [],
   "source": []
  },
  {
   "cell_type": "code",
   "execution_count": null,
   "metadata": {
    "scrolled": true
   },
   "outputs": [],
   "source": []
  },
  {
   "cell_type": "code",
   "execution_count": null,
   "metadata": {},
   "outputs": [],
   "source": []
  },
  {
   "cell_type": "code",
   "execution_count": null,
   "metadata": {},
   "outputs": [],
   "source": []
  },
  {
   "cell_type": "code",
   "execution_count": null,
   "metadata": {
    "scrolled": true
   },
   "outputs": [],
   "source": []
  },
  {
   "cell_type": "code",
   "execution_count": null,
   "metadata": {},
   "outputs": [],
   "source": []
  }
 ],
 "metadata": {
  "kernelspec": {
   "display_name": "Python 2",
   "language": "python",
   "name": "python2"
  },
  "language_info": {
   "codemirror_mode": {
    "name": "ipython",
    "version": 2
   },
   "file_extension": ".py",
   "mimetype": "text/x-python",
   "name": "python",
   "nbconvert_exporter": "python",
   "pygments_lexer": "ipython2",
   "version": "2.7.16"
  }
 },
 "nbformat": 4,
 "nbformat_minor": 2
}
